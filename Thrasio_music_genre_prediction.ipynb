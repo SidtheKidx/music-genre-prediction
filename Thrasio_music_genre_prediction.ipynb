{
  "nbformat": 4,
  "nbformat_minor": 0,
  "metadata": {
    "colab": {
      "name": "Thrasio_music_genre_prediction.ipynb",
      "provenance": [],
      "collapsed_sections": [],
      "authorship_tag": "ABX9TyOf8YHCCHeEhy/F8z58A+X9",
      "include_colab_link": true
    },
    "kernelspec": {
      "name": "python3",
      "display_name": "Python 3"
    },
    "language_info": {
      "name": "python"
    }
  },
  "cells": [
    {
      "cell_type": "markdown",
      "metadata": {
        "id": "view-in-github",
        "colab_type": "text"
      },
      "source": [
        "<a href=\"https://colab.research.google.com/github/SidtheKidx/music-genre-prediction/blob/main/Thrasio_music_genre_prediction.ipynb\" target=\"_parent\"><img src=\"https://colab.research.google.com/assets/colab-badge.svg\" alt=\"Open In Colab\"/></a>"
      ]
    },
    {
      "cell_type": "markdown",
      "metadata": {
        "id": "J0-ioUwMAE4i"
      },
      "source": [
        "## Music genre prediction - classification"
      ]
    },
    {
      "cell_type": "code",
      "metadata": {
        "id": "_oBm07T_a34U"
      },
      "source": [
        "import numpy as np\n",
        "import pandas as pd\n",
        "import matplotlib.pyplot as plt\n",
        "import seaborn as sns\n",
        "sns.set()\n",
        "\n",
        "from sklearn.preprocessing import MinMaxScaler\n",
        "from sklearn.preprocessing import StandardScaler\n",
        "from sklearn.preprocessing import LabelEncoder\n",
        "from sklearn.preprocessing import OneHotEncoder\n",
        "from sklearn.preprocessing import label_binarize\n",
        "from sklearn.model_selection import train_test_split\n",
        "from sklearn.metrics import f1_score\n",
        "from sklearn import metrics\n",
        "\n",
        "\n",
        "from sklearn.linear_model import LogisticRegression\n",
        "from sklearn.ensemble import RandomForestClassifier\n",
        "from xgboost.sklearn import XGBClassifier\n",
        "from sklearn.svm import SVC\n",
        "from sklearn.multiclass import OneVsRestClassifier\n",
        "from sklearn.model_selection import GridSearchCV\n",
        "\n",
        "from sklearn.metrics import roc_curve, roc_auc_score, auc, f1_score, accuracy_score, confusion_matrix\n",
        "from xgboost import plot_importance\n",
        "from scipy import interp\n"
      ],
      "execution_count": 2,
      "outputs": []
    },
    {
      "cell_type": "code",
      "metadata": {
        "id": "2JM5XHEAr6Lm"
      },
      "source": [
        "music = pd.read_csv('https://raw.githubusercontent.com/SidtheKidx/music-genre-prediction/main/music_genre.csv')"
      ],
      "execution_count": 3,
      "outputs": []
    },
    {
      "cell_type": "code",
      "metadata": {
        "colab": {
          "base_uri": "https://localhost:8080/",
          "height": 464
        },
        "id": "_Ah74n0Pwo8W",
        "outputId": "149b73e5-f916-4669-8568-aa6c29ebba1b"
      },
      "source": [
        "music.head(10)"
      ],
      "execution_count": 4,
      "outputs": [
        {
          "output_type": "execute_result",
          "data": {
            "text/html": [
              "<div>\n",
              "<style scoped>\n",
              "    .dataframe tbody tr th:only-of-type {\n",
              "        vertical-align: middle;\n",
              "    }\n",
              "\n",
              "    .dataframe tbody tr th {\n",
              "        vertical-align: top;\n",
              "    }\n",
              "\n",
              "    .dataframe thead th {\n",
              "        text-align: right;\n",
              "    }\n",
              "</style>\n",
              "<table border=\"1\" class=\"dataframe\">\n",
              "  <thead>\n",
              "    <tr style=\"text-align: right;\">\n",
              "      <th></th>\n",
              "      <th>instance_id</th>\n",
              "      <th>artist_name</th>\n",
              "      <th>track_name</th>\n",
              "      <th>popularity</th>\n",
              "      <th>acousticness</th>\n",
              "      <th>danceability</th>\n",
              "      <th>duration_ms</th>\n",
              "      <th>energy</th>\n",
              "      <th>instrumentalness</th>\n",
              "      <th>key</th>\n",
              "      <th>liveness</th>\n",
              "      <th>loudness</th>\n",
              "      <th>mode</th>\n",
              "      <th>speechiness</th>\n",
              "      <th>tempo</th>\n",
              "      <th>obtained_date</th>\n",
              "      <th>valence</th>\n",
              "      <th>music_genre</th>\n",
              "    </tr>\n",
              "  </thead>\n",
              "  <tbody>\n",
              "    <tr>\n",
              "      <th>0</th>\n",
              "      <td>32894.0</td>\n",
              "      <td>Röyksopp</td>\n",
              "      <td>Röyksopp's Night Out</td>\n",
              "      <td>27.0</td>\n",
              "      <td>0.00468</td>\n",
              "      <td>0.652</td>\n",
              "      <td>-1.0</td>\n",
              "      <td>0.941</td>\n",
              "      <td>0.792000</td>\n",
              "      <td>A#</td>\n",
              "      <td>0.1150</td>\n",
              "      <td>-5.201</td>\n",
              "      <td>Minor</td>\n",
              "      <td>0.0748</td>\n",
              "      <td>100.889</td>\n",
              "      <td>4-Apr</td>\n",
              "      <td>0.759</td>\n",
              "      <td>Electronic</td>\n",
              "    </tr>\n",
              "    <tr>\n",
              "      <th>1</th>\n",
              "      <td>46652.0</td>\n",
              "      <td>Thievery Corporation</td>\n",
              "      <td>The Shining Path</td>\n",
              "      <td>31.0</td>\n",
              "      <td>0.01270</td>\n",
              "      <td>0.622</td>\n",
              "      <td>218293.0</td>\n",
              "      <td>0.890</td>\n",
              "      <td>0.950000</td>\n",
              "      <td>D</td>\n",
              "      <td>0.1240</td>\n",
              "      <td>-7.043</td>\n",
              "      <td>Minor</td>\n",
              "      <td>0.0300</td>\n",
              "      <td>115.00200000000001</td>\n",
              "      <td>4-Apr</td>\n",
              "      <td>0.531</td>\n",
              "      <td>Electronic</td>\n",
              "    </tr>\n",
              "    <tr>\n",
              "      <th>2</th>\n",
              "      <td>30097.0</td>\n",
              "      <td>Dillon Francis</td>\n",
              "      <td>Hurricane</td>\n",
              "      <td>28.0</td>\n",
              "      <td>0.00306</td>\n",
              "      <td>0.620</td>\n",
              "      <td>215613.0</td>\n",
              "      <td>0.755</td>\n",
              "      <td>0.011800</td>\n",
              "      <td>G#</td>\n",
              "      <td>0.5340</td>\n",
              "      <td>-4.617</td>\n",
              "      <td>Major</td>\n",
              "      <td>0.0345</td>\n",
              "      <td>127.994</td>\n",
              "      <td>4-Apr</td>\n",
              "      <td>0.333</td>\n",
              "      <td>Electronic</td>\n",
              "    </tr>\n",
              "    <tr>\n",
              "      <th>3</th>\n",
              "      <td>62177.0</td>\n",
              "      <td>Dubloadz</td>\n",
              "      <td>Nitro</td>\n",
              "      <td>34.0</td>\n",
              "      <td>0.02540</td>\n",
              "      <td>0.774</td>\n",
              "      <td>166875.0</td>\n",
              "      <td>0.700</td>\n",
              "      <td>0.002530</td>\n",
              "      <td>C#</td>\n",
              "      <td>0.1570</td>\n",
              "      <td>-4.498</td>\n",
              "      <td>Major</td>\n",
              "      <td>0.2390</td>\n",
              "      <td>128.014</td>\n",
              "      <td>4-Apr</td>\n",
              "      <td>0.270</td>\n",
              "      <td>Electronic</td>\n",
              "    </tr>\n",
              "    <tr>\n",
              "      <th>4</th>\n",
              "      <td>24907.0</td>\n",
              "      <td>What So Not</td>\n",
              "      <td>Divide &amp; Conquer</td>\n",
              "      <td>32.0</td>\n",
              "      <td>0.00465</td>\n",
              "      <td>0.638</td>\n",
              "      <td>222369.0</td>\n",
              "      <td>0.587</td>\n",
              "      <td>0.909000</td>\n",
              "      <td>F#</td>\n",
              "      <td>0.1570</td>\n",
              "      <td>-6.266</td>\n",
              "      <td>Major</td>\n",
              "      <td>0.0413</td>\n",
              "      <td>145.036</td>\n",
              "      <td>4-Apr</td>\n",
              "      <td>0.323</td>\n",
              "      <td>Electronic</td>\n",
              "    </tr>\n",
              "    <tr>\n",
              "      <th>5</th>\n",
              "      <td>89064.0</td>\n",
              "      <td>Axel Boman</td>\n",
              "      <td>Hello</td>\n",
              "      <td>47.0</td>\n",
              "      <td>0.00523</td>\n",
              "      <td>0.755</td>\n",
              "      <td>519468.0</td>\n",
              "      <td>0.731</td>\n",
              "      <td>0.854000</td>\n",
              "      <td>D</td>\n",
              "      <td>0.2160</td>\n",
              "      <td>-10.517</td>\n",
              "      <td>Minor</td>\n",
              "      <td>0.0412</td>\n",
              "      <td>?</td>\n",
              "      <td>4-Apr</td>\n",
              "      <td>0.614</td>\n",
              "      <td>Electronic</td>\n",
              "    </tr>\n",
              "    <tr>\n",
              "      <th>6</th>\n",
              "      <td>43760.0</td>\n",
              "      <td>Jordan Comolli</td>\n",
              "      <td>Clash</td>\n",
              "      <td>46.0</td>\n",
              "      <td>0.02890</td>\n",
              "      <td>0.572</td>\n",
              "      <td>214408.0</td>\n",
              "      <td>0.803</td>\n",
              "      <td>0.000008</td>\n",
              "      <td>B</td>\n",
              "      <td>0.1060</td>\n",
              "      <td>-4.294</td>\n",
              "      <td>Major</td>\n",
              "      <td>0.3510</td>\n",
              "      <td>149.995</td>\n",
              "      <td>4-Apr</td>\n",
              "      <td>0.230</td>\n",
              "      <td>Electronic</td>\n",
              "    </tr>\n",
              "    <tr>\n",
              "      <th>7</th>\n",
              "      <td>30738.0</td>\n",
              "      <td>Hraach</td>\n",
              "      <td>Delirio</td>\n",
              "      <td>43.0</td>\n",
              "      <td>0.02970</td>\n",
              "      <td>0.809</td>\n",
              "      <td>416132.0</td>\n",
              "      <td>0.706</td>\n",
              "      <td>0.903000</td>\n",
              "      <td>G</td>\n",
              "      <td>0.0635</td>\n",
              "      <td>-9.339</td>\n",
              "      <td>Minor</td>\n",
              "      <td>0.0484</td>\n",
              "      <td>120.008</td>\n",
              "      <td>4-Apr</td>\n",
              "      <td>0.761</td>\n",
              "      <td>Electronic</td>\n",
              "    </tr>\n",
              "    <tr>\n",
              "      <th>8</th>\n",
              "      <td>84950.0</td>\n",
              "      <td>Kayzo</td>\n",
              "      <td>NEVER ALONE</td>\n",
              "      <td>39.0</td>\n",
              "      <td>0.00299</td>\n",
              "      <td>0.509</td>\n",
              "      <td>292800.0</td>\n",
              "      <td>0.921</td>\n",
              "      <td>0.000276</td>\n",
              "      <td>F</td>\n",
              "      <td>0.1780</td>\n",
              "      <td>-3.175</td>\n",
              "      <td>Minor</td>\n",
              "      <td>0.2680</td>\n",
              "      <td>149.94799999999998</td>\n",
              "      <td>4-Apr</td>\n",
              "      <td>0.273</td>\n",
              "      <td>Electronic</td>\n",
              "    </tr>\n",
              "    <tr>\n",
              "      <th>9</th>\n",
              "      <td>56950.0</td>\n",
              "      <td>Shlump</td>\n",
              "      <td>Lazer Beam</td>\n",
              "      <td>22.0</td>\n",
              "      <td>0.00934</td>\n",
              "      <td>0.578</td>\n",
              "      <td>204800.0</td>\n",
              "      <td>0.731</td>\n",
              "      <td>0.011200</td>\n",
              "      <td>A</td>\n",
              "      <td>0.1110</td>\n",
              "      <td>-7.091</td>\n",
              "      <td>Minor</td>\n",
              "      <td>0.1730</td>\n",
              "      <td>139.933</td>\n",
              "      <td>4-Apr</td>\n",
              "      <td>0.203</td>\n",
              "      <td>Electronic</td>\n",
              "    </tr>\n",
              "  </tbody>\n",
              "</table>\n",
              "</div>"
            ],
            "text/plain": [
              "   instance_id           artist_name  ... valence  music_genre\n",
              "0      32894.0              Röyksopp  ...   0.759   Electronic\n",
              "1      46652.0  Thievery Corporation  ...   0.531   Electronic\n",
              "2      30097.0        Dillon Francis  ...   0.333   Electronic\n",
              "3      62177.0              Dubloadz  ...   0.270   Electronic\n",
              "4      24907.0           What So Not  ...   0.323   Electronic\n",
              "5      89064.0            Axel Boman  ...   0.614   Electronic\n",
              "6      43760.0        Jordan Comolli  ...   0.230   Electronic\n",
              "7      30738.0                Hraach  ...   0.761   Electronic\n",
              "8      84950.0                 Kayzo  ...   0.273   Electronic\n",
              "9      56950.0                Shlump  ...   0.203   Electronic\n",
              "\n",
              "[10 rows x 18 columns]"
            ]
          },
          "metadata": {},
          "execution_count": 4
        }
      ]
    },
    {
      "cell_type": "markdown",
      "metadata": {
        "id": "ACj3qS91AODg"
      },
      "source": [
        "### EDA and feature engineering"
      ]
    },
    {
      "cell_type": "code",
      "metadata": {
        "colab": {
          "base_uri": "https://localhost:8080/"
        },
        "id": "gCmFyfI-wroS",
        "outputId": "536aacb3-2a91-4cd2-cac3-ff3ea2a38c7d"
      },
      "source": [
        "music.info()"
      ],
      "execution_count": 5,
      "outputs": [
        {
          "output_type": "stream",
          "name": "stdout",
          "text": [
            "<class 'pandas.core.frame.DataFrame'>\n",
            "RangeIndex: 50005 entries, 0 to 50004\n",
            "Data columns (total 18 columns):\n",
            " #   Column            Non-Null Count  Dtype  \n",
            "---  ------            --------------  -----  \n",
            " 0   instance_id       50000 non-null  float64\n",
            " 1   artist_name       50000 non-null  object \n",
            " 2   track_name        50000 non-null  object \n",
            " 3   popularity        50000 non-null  float64\n",
            " 4   acousticness      50000 non-null  float64\n",
            " 5   danceability      50000 non-null  float64\n",
            " 6   duration_ms       50000 non-null  float64\n",
            " 7   energy            50000 non-null  float64\n",
            " 8   instrumentalness  50000 non-null  float64\n",
            " 9   key               50000 non-null  object \n",
            " 10  liveness          50000 non-null  float64\n",
            " 11  loudness          50000 non-null  float64\n",
            " 12  mode              50000 non-null  object \n",
            " 13  speechiness       50000 non-null  float64\n",
            " 14  tempo             50000 non-null  object \n",
            " 15  obtained_date     50000 non-null  object \n",
            " 16  valence           50000 non-null  float64\n",
            " 17  music_genre       50000 non-null  object \n",
            "dtypes: float64(11), object(7)\n",
            "memory usage: 6.9+ MB\n"
          ]
        }
      ]
    },
    {
      "cell_type": "code",
      "metadata": {
        "colab": {
          "base_uri": "https://localhost:8080/",
          "height": 297
        },
        "id": "DjL_HUyu8Esi",
        "outputId": "2d63c53d-48cd-4da0-9f4f-37f7a70e6086"
      },
      "source": [
        "music.describe()"
      ],
      "execution_count": 6,
      "outputs": [
        {
          "output_type": "execute_result",
          "data": {
            "text/html": [
              "<div>\n",
              "<style scoped>\n",
              "    .dataframe tbody tr th:only-of-type {\n",
              "        vertical-align: middle;\n",
              "    }\n",
              "\n",
              "    .dataframe tbody tr th {\n",
              "        vertical-align: top;\n",
              "    }\n",
              "\n",
              "    .dataframe thead th {\n",
              "        text-align: right;\n",
              "    }\n",
              "</style>\n",
              "<table border=\"1\" class=\"dataframe\">\n",
              "  <thead>\n",
              "    <tr style=\"text-align: right;\">\n",
              "      <th></th>\n",
              "      <th>instance_id</th>\n",
              "      <th>popularity</th>\n",
              "      <th>acousticness</th>\n",
              "      <th>danceability</th>\n",
              "      <th>duration_ms</th>\n",
              "      <th>energy</th>\n",
              "      <th>instrumentalness</th>\n",
              "      <th>liveness</th>\n",
              "      <th>loudness</th>\n",
              "      <th>speechiness</th>\n",
              "      <th>valence</th>\n",
              "    </tr>\n",
              "  </thead>\n",
              "  <tbody>\n",
              "    <tr>\n",
              "      <th>count</th>\n",
              "      <td>50000.000000</td>\n",
              "      <td>50000.000000</td>\n",
              "      <td>50000.000000</td>\n",
              "      <td>50000.000000</td>\n",
              "      <td>5.000000e+04</td>\n",
              "      <td>50000.000000</td>\n",
              "      <td>50000.000000</td>\n",
              "      <td>50000.000000</td>\n",
              "      <td>50000.000000</td>\n",
              "      <td>50000.000000</td>\n",
              "      <td>50000.000000</td>\n",
              "    </tr>\n",
              "    <tr>\n",
              "      <th>mean</th>\n",
              "      <td>55888.396360</td>\n",
              "      <td>44.220420</td>\n",
              "      <td>0.306383</td>\n",
              "      <td>0.558241</td>\n",
              "      <td>2.212526e+05</td>\n",
              "      <td>0.599755</td>\n",
              "      <td>0.181601</td>\n",
              "      <td>0.193896</td>\n",
              "      <td>-9.133761</td>\n",
              "      <td>0.093586</td>\n",
              "      <td>0.456264</td>\n",
              "    </tr>\n",
              "    <tr>\n",
              "      <th>std</th>\n",
              "      <td>20725.256253</td>\n",
              "      <td>15.542008</td>\n",
              "      <td>0.341340</td>\n",
              "      <td>0.178632</td>\n",
              "      <td>1.286720e+05</td>\n",
              "      <td>0.264559</td>\n",
              "      <td>0.325409</td>\n",
              "      <td>0.161637</td>\n",
              "      <td>6.162990</td>\n",
              "      <td>0.101373</td>\n",
              "      <td>0.247119</td>\n",
              "    </tr>\n",
              "    <tr>\n",
              "      <th>min</th>\n",
              "      <td>20002.000000</td>\n",
              "      <td>0.000000</td>\n",
              "      <td>0.000000</td>\n",
              "      <td>0.059600</td>\n",
              "      <td>-1.000000e+00</td>\n",
              "      <td>0.000792</td>\n",
              "      <td>0.000000</td>\n",
              "      <td>0.009670</td>\n",
              "      <td>-47.046000</td>\n",
              "      <td>0.022300</td>\n",
              "      <td>0.000000</td>\n",
              "    </tr>\n",
              "    <tr>\n",
              "      <th>25%</th>\n",
              "      <td>37973.500000</td>\n",
              "      <td>34.000000</td>\n",
              "      <td>0.020000</td>\n",
              "      <td>0.442000</td>\n",
              "      <td>1.748000e+05</td>\n",
              "      <td>0.433000</td>\n",
              "      <td>0.000000</td>\n",
              "      <td>0.096900</td>\n",
              "      <td>-10.860000</td>\n",
              "      <td>0.036100</td>\n",
              "      <td>0.257000</td>\n",
              "    </tr>\n",
              "    <tr>\n",
              "      <th>50%</th>\n",
              "      <td>55913.500000</td>\n",
              "      <td>45.000000</td>\n",
              "      <td>0.144000</td>\n",
              "      <td>0.568000</td>\n",
              "      <td>2.192810e+05</td>\n",
              "      <td>0.643000</td>\n",
              "      <td>0.000158</td>\n",
              "      <td>0.126000</td>\n",
              "      <td>-7.276500</td>\n",
              "      <td>0.048900</td>\n",
              "      <td>0.448000</td>\n",
              "    </tr>\n",
              "    <tr>\n",
              "      <th>75%</th>\n",
              "      <td>73863.250000</td>\n",
              "      <td>56.000000</td>\n",
              "      <td>0.552000</td>\n",
              "      <td>0.687000</td>\n",
              "      <td>2.686122e+05</td>\n",
              "      <td>0.815000</td>\n",
              "      <td>0.155000</td>\n",
              "      <td>0.244000</td>\n",
              "      <td>-5.173000</td>\n",
              "      <td>0.098525</td>\n",
              "      <td>0.648000</td>\n",
              "    </tr>\n",
              "    <tr>\n",
              "      <th>max</th>\n",
              "      <td>91759.000000</td>\n",
              "      <td>99.000000</td>\n",
              "      <td>0.996000</td>\n",
              "      <td>0.986000</td>\n",
              "      <td>4.830606e+06</td>\n",
              "      <td>0.999000</td>\n",
              "      <td>0.996000</td>\n",
              "      <td>1.000000</td>\n",
              "      <td>3.744000</td>\n",
              "      <td>0.942000</td>\n",
              "      <td>0.992000</td>\n",
              "    </tr>\n",
              "  </tbody>\n",
              "</table>\n",
              "</div>"
            ],
            "text/plain": [
              "        instance_id    popularity  ...   speechiness       valence\n",
              "count  50000.000000  50000.000000  ...  50000.000000  50000.000000\n",
              "mean   55888.396360     44.220420  ...      0.093586      0.456264\n",
              "std    20725.256253     15.542008  ...      0.101373      0.247119\n",
              "min    20002.000000      0.000000  ...      0.022300      0.000000\n",
              "25%    37973.500000     34.000000  ...      0.036100      0.257000\n",
              "50%    55913.500000     45.000000  ...      0.048900      0.448000\n",
              "75%    73863.250000     56.000000  ...      0.098525      0.648000\n",
              "max    91759.000000     99.000000  ...      0.942000      0.992000\n",
              "\n",
              "[8 rows x 11 columns]"
            ]
          },
          "metadata": {},
          "execution_count": 6
        }
      ]
    },
    {
      "cell_type": "code",
      "metadata": {
        "colab": {
          "base_uri": "https://localhost:8080/"
        },
        "id": "zREZ-dGj8KhR",
        "outputId": "961cb4eb-6254-4f4c-d9a6-7928094e163b"
      },
      "source": [
        "music.shape"
      ],
      "execution_count": 7,
      "outputs": [
        {
          "output_type": "execute_result",
          "data": {
            "text/plain": [
              "(50005, 18)"
            ]
          },
          "metadata": {},
          "execution_count": 7
        }
      ]
    },
    {
      "cell_type": "code",
      "metadata": {
        "colab": {
          "base_uri": "https://localhost:8080/"
        },
        "id": "I3el4jOAAYYQ",
        "outputId": "a0b92616-4abd-47ce-a52c-eaadd1e792ae"
      },
      "source": [
        "music['music_genre'].unique()"
      ],
      "execution_count": 8,
      "outputs": [
        {
          "output_type": "execute_result",
          "data": {
            "text/plain": [
              "array(['Electronic', 'Anime', nan, 'Jazz', 'Alternative', 'Country',\n",
              "       'Rap', 'Blues', 'Rock', 'Classical', 'Hip-Hop'], dtype=object)"
            ]
          },
          "metadata": {},
          "execution_count": 8
        }
      ]
    },
    {
      "cell_type": "code",
      "metadata": {
        "colab": {
          "base_uri": "https://localhost:8080/"
        },
        "id": "WXScuJtqAbR9",
        "outputId": "c47077f1-a951-42c2-e2aa-21e9ebe26add"
      },
      "source": [
        "music['music_genre'].value_counts()"
      ],
      "execution_count": 9,
      "outputs": [
        {
          "output_type": "execute_result",
          "data": {
            "text/plain": [
              "Rock           5000\n",
              "Hip-Hop        5000\n",
              "Alternative    5000\n",
              "Country        5000\n",
              "Rap            5000\n",
              "Anime          5000\n",
              "Jazz           5000\n",
              "Blues          5000\n",
              "Classical      5000\n",
              "Electronic     5000\n",
              "Name: music_genre, dtype: int64"
            ]
          },
          "metadata": {},
          "execution_count": 9
        }
      ]
    },
    {
      "cell_type": "code",
      "metadata": {
        "id": "J4OHDjMGA1um"
      },
      "source": [
        "#Dropping values that are NANs(i.e. 5 values in 'music genre')\n",
        "music = music[music['music_genre'].notna()]"
      ],
      "execution_count": 10,
      "outputs": []
    },
    {
      "cell_type": "code",
      "metadata": {
        "id": "DpeauXr_k3cU"
      },
      "source": [
        "genres = music['music_genre'].unique()"
      ],
      "execution_count": 11,
      "outputs": []
    },
    {
      "cell_type": "code",
      "metadata": {
        "colab": {
          "base_uri": "https://localhost:8080/"
        },
        "id": "j2qBhrN1jXTa",
        "outputId": "0854bffe-50cd-42a0-8d28-d3206115e3ba"
      },
      "source": [
        "music['music_genre'].isnull().sum()"
      ],
      "execution_count": 12,
      "outputs": [
        {
          "output_type": "execute_result",
          "data": {
            "text/plain": [
              "0"
            ]
          },
          "metadata": {},
          "execution_count": 12
        }
      ]
    },
    {
      "cell_type": "code",
      "metadata": {
        "colab": {
          "base_uri": "https://localhost:8080/"
        },
        "id": "-zHU1znoBtWv",
        "outputId": "18ee5f83-0815-4cc2-a2de-121e36278877"
      },
      "source": [
        "music['music_genre'].unique()"
      ],
      "execution_count": 13,
      "outputs": [
        {
          "output_type": "execute_result",
          "data": {
            "text/plain": [
              "array(['Electronic', 'Anime', 'Jazz', 'Alternative', 'Country', 'Rap',\n",
              "       'Blues', 'Rock', 'Classical', 'Hip-Hop'], dtype=object)"
            ]
          },
          "metadata": {},
          "execution_count": 13
        }
      ]
    },
    {
      "cell_type": "code",
      "metadata": {
        "colab": {
          "base_uri": "https://localhost:8080/"
        },
        "id": "R5haMLTIO6r9",
        "outputId": "00140151-536a-4055-91a6-e0ee6bda6a66"
      },
      "source": [
        "music.dtypes"
      ],
      "execution_count": 14,
      "outputs": [
        {
          "output_type": "execute_result",
          "data": {
            "text/plain": [
              "instance_id         float64\n",
              "artist_name          object\n",
              "track_name           object\n",
              "popularity          float64\n",
              "acousticness        float64\n",
              "danceability        float64\n",
              "duration_ms         float64\n",
              "energy              float64\n",
              "instrumentalness    float64\n",
              "key                  object\n",
              "liveness            float64\n",
              "loudness            float64\n",
              "mode                 object\n",
              "speechiness         float64\n",
              "tempo                object\n",
              "obtained_date        object\n",
              "valence             float64\n",
              "music_genre          object\n",
              "dtype: object"
            ]
          },
          "metadata": {},
          "execution_count": 14
        }
      ]
    },
    {
      "cell_type": "code",
      "metadata": {
        "colab": {
          "base_uri": "https://localhost:8080/",
          "height": 477
        },
        "id": "VGbfbPNM0tQh",
        "outputId": "fa0b61d5-76c8-4c6b-f755-aa3cc03fc54c"
      },
      "source": [
        "#Finding correlation between features\n",
        "corrmat = music.corr()\n",
        "f, ax = plt.subplots(figsize=(7,6))\n",
        "sns.heatmap(corrmat, square = True)"
      ],
      "execution_count": 15,
      "outputs": [
        {
          "output_type": "execute_result",
          "data": {
            "text/plain": [
              "<matplotlib.axes._subplots.AxesSubplot at 0x7f291a11fa10>"
            ]
          },
          "metadata": {},
          "execution_count": 15
        },
        {
          "output_type": "display_data",
          "data": {
            "image/png": "[encoded data removed]",
            "text/plain": [
              "<Figure size 504x432 with 2 Axes>"
            ]
          },
          "metadata": {}
        }
      ]
    },
    {
      "cell_type": "markdown",
      "metadata": {
        "id": "X_lSa1WSEJnv"
      },
      "source": [
        "Right off the bat, we can see:\n",
        "1. *loudness* and *energy* are **medium-high correlated**. \n",
        "2. Followed by **medium correlation**:\n",
        "*   *loudness*  and *valence*\n",
        "*   *instrumentalness* and *acousticness* \n",
        "*   *loudness* and *danceability* \n",
        "*   *energy* and *valence*\n",
        "*   *danceability* and *valence* \n",
        "*   *popularity* and *danceability*\n",
        "\n",
        "\n"
      ]
    },
    {
      "cell_type": "markdown",
      "metadata": {
        "id": "XRDtILFan5F0"
      },
      "source": [
        "Feature Selection here does not involve dropping one of loudness/energy as it has no effect on predicted results"
      ]
    },
    {
      "cell_type": "code",
      "metadata": {
        "colab": {
          "base_uri": "https://localhost:8080/"
        },
        "id": "PO-ohs20z1NJ",
        "outputId": "d96e7ead-04bb-4a1f-f667-b4e4a870ecb2"
      },
      "source": [
        "music.index.is_unique"
      ],
      "execution_count": 16,
      "outputs": [
        {
          "output_type": "execute_result",
          "data": {
            "text/plain": [
              "True"
            ]
          },
          "metadata": {},
          "execution_count": 16
        }
      ]
    },
    {
      "cell_type": "code",
      "metadata": {
        "id": "v8plbni4z3Tu"
      },
      "source": [
        "music.drop_duplicates(inplace=True)"
      ],
      "execution_count": 17,
      "outputs": []
    },
    {
      "cell_type": "code",
      "metadata": {
        "colab": {
          "base_uri": "https://localhost:8080/",
          "height": 575
        },
        "id": "Zolyh6bj0R9w",
        "outputId": "f7f91d30-b8d5-4117-bd45-326fb11dd630"
      },
      "source": [
        "music.sort_index()"
      ],
      "execution_count": 18,
      "outputs": [
        {
          "output_type": "execute_result",
          "data": {
            "text/html": [
              "<div>\n",
              "<style scoped>\n",
              "    .dataframe tbody tr th:only-of-type {\n",
              "        vertical-align: middle;\n",
              "    }\n",
              "\n",
              "    .dataframe tbody tr th {\n",
              "        vertical-align: top;\n",
              "    }\n",
              "\n",
              "    .dataframe thead th {\n",
              "        text-align: right;\n",
              "    }\n",
              "</style>\n",
              "<table border=\"1\" class=\"dataframe\">\n",
              "  <thead>\n",
              "    <tr style=\"text-align: right;\">\n",
              "      <th></th>\n",
              "      <th>instance_id</th>\n",
              "      <th>artist_name</th>\n",
              "      <th>track_name</th>\n",
              "      <th>popularity</th>\n",
              "      <th>acousticness</th>\n",
              "      <th>danceability</th>\n",
              "      <th>duration_ms</th>\n",
              "      <th>energy</th>\n",
              "      <th>instrumentalness</th>\n",
              "      <th>key</th>\n",
              "      <th>liveness</th>\n",
              "      <th>loudness</th>\n",
              "      <th>mode</th>\n",
              "      <th>speechiness</th>\n",
              "      <th>tempo</th>\n",
              "      <th>obtained_date</th>\n",
              "      <th>valence</th>\n",
              "      <th>music_genre</th>\n",
              "    </tr>\n",
              "  </thead>\n",
              "  <tbody>\n",
              "    <tr>\n",
              "      <th>0</th>\n",
              "      <td>32894.0</td>\n",
              "      <td>Röyksopp</td>\n",
              "      <td>Röyksopp's Night Out</td>\n",
              "      <td>27.0</td>\n",
              "      <td>0.00468</td>\n",
              "      <td>0.652</td>\n",
              "      <td>-1.0</td>\n",
              "      <td>0.941</td>\n",
              "      <td>0.79200</td>\n",
              "      <td>A#</td>\n",
              "      <td>0.115</td>\n",
              "      <td>-5.201</td>\n",
              "      <td>Minor</td>\n",
              "      <td>0.0748</td>\n",
              "      <td>100.889</td>\n",
              "      <td>4-Apr</td>\n",
              "      <td>0.759</td>\n",
              "      <td>Electronic</td>\n",
              "    </tr>\n",
              "    <tr>\n",
              "      <th>1</th>\n",
              "      <td>46652.0</td>\n",
              "      <td>Thievery Corporation</td>\n",
              "      <td>The Shining Path</td>\n",
              "      <td>31.0</td>\n",
              "      <td>0.01270</td>\n",
              "      <td>0.622</td>\n",
              "      <td>218293.0</td>\n",
              "      <td>0.890</td>\n",
              "      <td>0.95000</td>\n",
              "      <td>D</td>\n",
              "      <td>0.124</td>\n",
              "      <td>-7.043</td>\n",
              "      <td>Minor</td>\n",
              "      <td>0.0300</td>\n",
              "      <td>115.00200000000001</td>\n",
              "      <td>4-Apr</td>\n",
              "      <td>0.531</td>\n",
              "      <td>Electronic</td>\n",
              "    </tr>\n",
              "    <tr>\n",
              "      <th>2</th>\n",
              "      <td>30097.0</td>\n",
              "      <td>Dillon Francis</td>\n",
              "      <td>Hurricane</td>\n",
              "      <td>28.0</td>\n",
              "      <td>0.00306</td>\n",
              "      <td>0.620</td>\n",
              "      <td>215613.0</td>\n",
              "      <td>0.755</td>\n",
              "      <td>0.01180</td>\n",
              "      <td>G#</td>\n",
              "      <td>0.534</td>\n",
              "      <td>-4.617</td>\n",
              "      <td>Major</td>\n",
              "      <td>0.0345</td>\n",
              "      <td>127.994</td>\n",
              "      <td>4-Apr</td>\n",
              "      <td>0.333</td>\n",
              "      <td>Electronic</td>\n",
              "    </tr>\n",
              "    <tr>\n",
              "      <th>3</th>\n",
              "      <td>62177.0</td>\n",
              "      <td>Dubloadz</td>\n",
              "      <td>Nitro</td>\n",
              "      <td>34.0</td>\n",
              "      <td>0.02540</td>\n",
              "      <td>0.774</td>\n",
              "      <td>166875.0</td>\n",
              "      <td>0.700</td>\n",
              "      <td>0.00253</td>\n",
              "      <td>C#</td>\n",
              "      <td>0.157</td>\n",
              "      <td>-4.498</td>\n",
              "      <td>Major</td>\n",
              "      <td>0.2390</td>\n",
              "      <td>128.014</td>\n",
              "      <td>4-Apr</td>\n",
              "      <td>0.270</td>\n",
              "      <td>Electronic</td>\n",
              "    </tr>\n",
              "    <tr>\n",
              "      <th>4</th>\n",
              "      <td>24907.0</td>\n",
              "      <td>What So Not</td>\n",
              "      <td>Divide &amp; Conquer</td>\n",
              "      <td>32.0</td>\n",
              "      <td>0.00465</td>\n",
              "      <td>0.638</td>\n",
              "      <td>222369.0</td>\n",
              "      <td>0.587</td>\n",
              "      <td>0.90900</td>\n",
              "      <td>F#</td>\n",
              "      <td>0.157</td>\n",
              "      <td>-6.266</td>\n",
              "      <td>Major</td>\n",
              "      <td>0.0413</td>\n",
              "      <td>145.036</td>\n",
              "      <td>4-Apr</td>\n",
              "      <td>0.323</td>\n",
              "      <td>Electronic</td>\n",
              "    </tr>\n",
              "    <tr>\n",
              "      <th>...</th>\n",
              "      <td>...</td>\n",
              "      <td>...</td>\n",
              "      <td>...</td>\n",
              "      <td>...</td>\n",
              "      <td>...</td>\n",
              "      <td>...</td>\n",
              "      <td>...</td>\n",
              "      <td>...</td>\n",
              "      <td>...</td>\n",
              "      <td>...</td>\n",
              "      <td>...</td>\n",
              "      <td>...</td>\n",
              "      <td>...</td>\n",
              "      <td>...</td>\n",
              "      <td>...</td>\n",
              "      <td>...</td>\n",
              "      <td>...</td>\n",
              "      <td>...</td>\n",
              "    </tr>\n",
              "    <tr>\n",
              "      <th>50000</th>\n",
              "      <td>58878.0</td>\n",
              "      <td>BEXEY</td>\n",
              "      <td>GO GETTA</td>\n",
              "      <td>59.0</td>\n",
              "      <td>0.03340</td>\n",
              "      <td>0.913</td>\n",
              "      <td>-1.0</td>\n",
              "      <td>0.574</td>\n",
              "      <td>0.00000</td>\n",
              "      <td>C#</td>\n",
              "      <td>0.119</td>\n",
              "      <td>-7.022</td>\n",
              "      <td>Major</td>\n",
              "      <td>0.2980</td>\n",
              "      <td>98.02799999999999</td>\n",
              "      <td>4-Apr</td>\n",
              "      <td>0.330</td>\n",
              "      <td>Hip-Hop</td>\n",
              "    </tr>\n",
              "    <tr>\n",
              "      <th>50001</th>\n",
              "      <td>43557.0</td>\n",
              "      <td>Roy Woods</td>\n",
              "      <td>Drama (feat. Drake)</td>\n",
              "      <td>72.0</td>\n",
              "      <td>0.15700</td>\n",
              "      <td>0.709</td>\n",
              "      <td>251860.0</td>\n",
              "      <td>0.362</td>\n",
              "      <td>0.00000</td>\n",
              "      <td>B</td>\n",
              "      <td>0.109</td>\n",
              "      <td>-9.814</td>\n",
              "      <td>Major</td>\n",
              "      <td>0.0550</td>\n",
              "      <td>122.04299999999999</td>\n",
              "      <td>4-Apr</td>\n",
              "      <td>0.113</td>\n",
              "      <td>Hip-Hop</td>\n",
              "    </tr>\n",
              "    <tr>\n",
              "      <th>50002</th>\n",
              "      <td>39767.0</td>\n",
              "      <td>Berner</td>\n",
              "      <td>Lovin' Me (feat. Smiggz)</td>\n",
              "      <td>51.0</td>\n",
              "      <td>0.00597</td>\n",
              "      <td>0.693</td>\n",
              "      <td>189483.0</td>\n",
              "      <td>0.763</td>\n",
              "      <td>0.00000</td>\n",
              "      <td>D</td>\n",
              "      <td>0.143</td>\n",
              "      <td>-5.443</td>\n",
              "      <td>Major</td>\n",
              "      <td>0.1460</td>\n",
              "      <td>131.079</td>\n",
              "      <td>4-Apr</td>\n",
              "      <td>0.395</td>\n",
              "      <td>Hip-Hop</td>\n",
              "    </tr>\n",
              "    <tr>\n",
              "      <th>50003</th>\n",
              "      <td>57944.0</td>\n",
              "      <td>The-Dream</td>\n",
              "      <td>Shawty Is Da Shit</td>\n",
              "      <td>65.0</td>\n",
              "      <td>0.08310</td>\n",
              "      <td>0.782</td>\n",
              "      <td>262773.0</td>\n",
              "      <td>0.472</td>\n",
              "      <td>0.00000</td>\n",
              "      <td>G</td>\n",
              "      <td>0.106</td>\n",
              "      <td>-5.016</td>\n",
              "      <td>Minor</td>\n",
              "      <td>0.0441</td>\n",
              "      <td>75.88600000000001</td>\n",
              "      <td>4-Apr</td>\n",
              "      <td>0.354</td>\n",
              "      <td>Hip-Hop</td>\n",
              "    </tr>\n",
              "    <tr>\n",
              "      <th>50004</th>\n",
              "      <td>63470.0</td>\n",
              "      <td>Naughty By Nature</td>\n",
              "      <td>Hip Hop Hooray</td>\n",
              "      <td>67.0</td>\n",
              "      <td>0.10200</td>\n",
              "      <td>0.862</td>\n",
              "      <td>267267.0</td>\n",
              "      <td>0.642</td>\n",
              "      <td>0.00000</td>\n",
              "      <td>F#</td>\n",
              "      <td>0.272</td>\n",
              "      <td>-13.652</td>\n",
              "      <td>Minor</td>\n",
              "      <td>0.1010</td>\n",
              "      <td>99.20100000000001</td>\n",
              "      <td>4-Apr</td>\n",
              "      <td>0.765</td>\n",
              "      <td>Hip-Hop</td>\n",
              "    </tr>\n",
              "  </tbody>\n",
              "</table>\n",
              "<p>50000 rows × 18 columns</p>\n",
              "</div>"
            ],
            "text/plain": [
              "       instance_id           artist_name  ... valence  music_genre\n",
              "0          32894.0              Röyksopp  ...   0.759   Electronic\n",
              "1          46652.0  Thievery Corporation  ...   0.531   Electronic\n",
              "2          30097.0        Dillon Francis  ...   0.333   Electronic\n",
              "3          62177.0              Dubloadz  ...   0.270   Electronic\n",
              "4          24907.0           What So Not  ...   0.323   Electronic\n",
              "...            ...                   ...  ...     ...          ...\n",
              "50000      58878.0                 BEXEY  ...   0.330      Hip-Hop\n",
              "50001      43557.0             Roy Woods  ...   0.113      Hip-Hop\n",
              "50002      39767.0                Berner  ...   0.395      Hip-Hop\n",
              "50003      57944.0             The-Dream  ...   0.354      Hip-Hop\n",
              "50004      63470.0     Naughty By Nature  ...   0.765      Hip-Hop\n",
              "\n",
              "[50000 rows x 18 columns]"
            ]
          },
          "metadata": {},
          "execution_count": 18
        }
      ]
    },
    {
      "cell_type": "code",
      "metadata": {
        "colab": {
          "base_uri": "https://localhost:8080/",
          "height": 541
        },
        "id": "G9fB_yKZj49F",
        "outputId": "732f83a7-6b1d-49a1-94e9-476d2e5ed9fb"
      },
      "source": [
        "music.head(-10)"
      ],
      "execution_count": 19,
      "outputs": [
        {
          "output_type": "execute_result",
          "data": {
            "text/html": [
              "<div>\n",
              "<style scoped>\n",
              "    .dataframe tbody tr th:only-of-type {\n",
              "        vertical-align: middle;\n",
              "    }\n",
              "\n",
              "    .dataframe tbody tr th {\n",
              "        vertical-align: top;\n",
              "    }\n",
              "\n",
              "    .dataframe thead th {\n",
              "        text-align: right;\n",
              "    }\n",
              "</style>\n",
              "<table border=\"1\" class=\"dataframe\">\n",
              "  <thead>\n",
              "    <tr style=\"text-align: right;\">\n",
              "      <th></th>\n",
              "      <th>instance_id</th>\n",
              "      <th>artist_name</th>\n",
              "      <th>track_name</th>\n",
              "      <th>popularity</th>\n",
              "      <th>acousticness</th>\n",
              "      <th>danceability</th>\n",
              "      <th>duration_ms</th>\n",
              "      <th>energy</th>\n",
              "      <th>instrumentalness</th>\n",
              "      <th>key</th>\n",
              "      <th>liveness</th>\n",
              "      <th>loudness</th>\n",
              "      <th>mode</th>\n",
              "      <th>speechiness</th>\n",
              "      <th>tempo</th>\n",
              "      <th>obtained_date</th>\n",
              "      <th>valence</th>\n",
              "      <th>music_genre</th>\n",
              "    </tr>\n",
              "  </thead>\n",
              "  <tbody>\n",
              "    <tr>\n",
              "      <th>0</th>\n",
              "      <td>32894.0</td>\n",
              "      <td>Röyksopp</td>\n",
              "      <td>Röyksopp's Night Out</td>\n",
              "      <td>27.0</td>\n",
              "      <td>0.00468</td>\n",
              "      <td>0.652</td>\n",
              "      <td>-1.0</td>\n",
              "      <td>0.941</td>\n",
              "      <td>0.792000</td>\n",
              "      <td>A#</td>\n",
              "      <td>0.1150</td>\n",
              "      <td>-5.201</td>\n",
              "      <td>Minor</td>\n",
              "      <td>0.0748</td>\n",
              "      <td>100.889</td>\n",
              "      <td>4-Apr</td>\n",
              "      <td>0.759</td>\n",
              "      <td>Electronic</td>\n",
              "    </tr>\n",
              "    <tr>\n",
              "      <th>1</th>\n",
              "      <td>46652.0</td>\n",
              "      <td>Thievery Corporation</td>\n",
              "      <td>The Shining Path</td>\n",
              "      <td>31.0</td>\n",
              "      <td>0.01270</td>\n",
              "      <td>0.622</td>\n",
              "      <td>218293.0</td>\n",
              "      <td>0.890</td>\n",
              "      <td>0.950000</td>\n",
              "      <td>D</td>\n",
              "      <td>0.1240</td>\n",
              "      <td>-7.043</td>\n",
              "      <td>Minor</td>\n",
              "      <td>0.0300</td>\n",
              "      <td>115.00200000000001</td>\n",
              "      <td>4-Apr</td>\n",
              "      <td>0.531</td>\n",
              "      <td>Electronic</td>\n",
              "    </tr>\n",
              "    <tr>\n",
              "      <th>2</th>\n",
              "      <td>30097.0</td>\n",
              "      <td>Dillon Francis</td>\n",
              "      <td>Hurricane</td>\n",
              "      <td>28.0</td>\n",
              "      <td>0.00306</td>\n",
              "      <td>0.620</td>\n",
              "      <td>215613.0</td>\n",
              "      <td>0.755</td>\n",
              "      <td>0.011800</td>\n",
              "      <td>G#</td>\n",
              "      <td>0.5340</td>\n",
              "      <td>-4.617</td>\n",
              "      <td>Major</td>\n",
              "      <td>0.0345</td>\n",
              "      <td>127.994</td>\n",
              "      <td>4-Apr</td>\n",
              "      <td>0.333</td>\n",
              "      <td>Electronic</td>\n",
              "    </tr>\n",
              "    <tr>\n",
              "      <th>3</th>\n",
              "      <td>62177.0</td>\n",
              "      <td>Dubloadz</td>\n",
              "      <td>Nitro</td>\n",
              "      <td>34.0</td>\n",
              "      <td>0.02540</td>\n",
              "      <td>0.774</td>\n",
              "      <td>166875.0</td>\n",
              "      <td>0.700</td>\n",
              "      <td>0.002530</td>\n",
              "      <td>C#</td>\n",
              "      <td>0.1570</td>\n",
              "      <td>-4.498</td>\n",
              "      <td>Major</td>\n",
              "      <td>0.2390</td>\n",
              "      <td>128.014</td>\n",
              "      <td>4-Apr</td>\n",
              "      <td>0.270</td>\n",
              "      <td>Electronic</td>\n",
              "    </tr>\n",
              "    <tr>\n",
              "      <th>4</th>\n",
              "      <td>24907.0</td>\n",
              "      <td>What So Not</td>\n",
              "      <td>Divide &amp; Conquer</td>\n",
              "      <td>32.0</td>\n",
              "      <td>0.00465</td>\n",
              "      <td>0.638</td>\n",
              "      <td>222369.0</td>\n",
              "      <td>0.587</td>\n",
              "      <td>0.909000</td>\n",
              "      <td>F#</td>\n",
              "      <td>0.1570</td>\n",
              "      <td>-6.266</td>\n",
              "      <td>Major</td>\n",
              "      <td>0.0413</td>\n",
              "      <td>145.036</td>\n",
              "      <td>4-Apr</td>\n",
              "      <td>0.323</td>\n",
              "      <td>Electronic</td>\n",
              "    </tr>\n",
              "    <tr>\n",
              "      <th>...</th>\n",
              "      <td>...</td>\n",
              "      <td>...</td>\n",
              "      <td>...</td>\n",
              "      <td>...</td>\n",
              "      <td>...</td>\n",
              "      <td>...</td>\n",
              "      <td>...</td>\n",
              "      <td>...</td>\n",
              "      <td>...</td>\n",
              "      <td>...</td>\n",
              "      <td>...</td>\n",
              "      <td>...</td>\n",
              "      <td>...</td>\n",
              "      <td>...</td>\n",
              "      <td>...</td>\n",
              "      <td>...</td>\n",
              "      <td>...</td>\n",
              "      <td>...</td>\n",
              "    </tr>\n",
              "    <tr>\n",
              "      <th>49990</th>\n",
              "      <td>32849.0</td>\n",
              "      <td>Jeremih</td>\n",
              "      <td>Planez</td>\n",
              "      <td>73.0</td>\n",
              "      <td>0.67400</td>\n",
              "      <td>0.650</td>\n",
              "      <td>240320.0</td>\n",
              "      <td>0.557</td>\n",
              "      <td>0.000000</td>\n",
              "      <td>C#</td>\n",
              "      <td>0.1100</td>\n",
              "      <td>-7.762</td>\n",
              "      <td>Major</td>\n",
              "      <td>0.3120</td>\n",
              "      <td>129.285</td>\n",
              "      <td>4-Apr</td>\n",
              "      <td>0.400</td>\n",
              "      <td>Hip-Hop</td>\n",
              "    </tr>\n",
              "    <tr>\n",
              "      <th>49991</th>\n",
              "      <td>40401.0</td>\n",
              "      <td>empty_field</td>\n",
              "      <td>For Real</td>\n",
              "      <td>53.0</td>\n",
              "      <td>0.00392</td>\n",
              "      <td>0.770</td>\n",
              "      <td>211820.0</td>\n",
              "      <td>0.905</td>\n",
              "      <td>0.000003</td>\n",
              "      <td>F</td>\n",
              "      <td>0.1690</td>\n",
              "      <td>-8.235</td>\n",
              "      <td>Minor</td>\n",
              "      <td>0.1440</td>\n",
              "      <td>135.999</td>\n",
              "      <td>4-Apr</td>\n",
              "      <td>0.464</td>\n",
              "      <td>Hip-Hop</td>\n",
              "    </tr>\n",
              "    <tr>\n",
              "      <th>49992</th>\n",
              "      <td>67111.0</td>\n",
              "      <td>Ghostemane</td>\n",
              "      <td>Hades</td>\n",
              "      <td>55.0</td>\n",
              "      <td>0.03910</td>\n",
              "      <td>0.829</td>\n",
              "      <td>127128.0</td>\n",
              "      <td>0.590</td>\n",
              "      <td>0.010700</td>\n",
              "      <td>A</td>\n",
              "      <td>0.1140</td>\n",
              "      <td>-7.818</td>\n",
              "      <td>Minor</td>\n",
              "      <td>0.2630</td>\n",
              "      <td>112.97</td>\n",
              "      <td>4-Apr</td>\n",
              "      <td>0.332</td>\n",
              "      <td>Hip-Hop</td>\n",
              "    </tr>\n",
              "    <tr>\n",
              "      <th>49993</th>\n",
              "      <td>37756.0</td>\n",
              "      <td>Lecrae</td>\n",
              "      <td>Cry For You</td>\n",
              "      <td>54.0</td>\n",
              "      <td>0.30400</td>\n",
              "      <td>0.642</td>\n",
              "      <td>263467.0</td>\n",
              "      <td>0.353</td>\n",
              "      <td>0.000000</td>\n",
              "      <td>A#</td>\n",
              "      <td>0.0927</td>\n",
              "      <td>-12.384</td>\n",
              "      <td>Minor</td>\n",
              "      <td>0.2150</td>\n",
              "      <td>89.596</td>\n",
              "      <td>4-Apr</td>\n",
              "      <td>0.276</td>\n",
              "      <td>Hip-Hop</td>\n",
              "    </tr>\n",
              "    <tr>\n",
              "      <th>49994</th>\n",
              "      <td>21821.0</td>\n",
              "      <td>empty_field</td>\n",
              "      <td>Drogba (Joanna) - WizKid Remix</td>\n",
              "      <td>62.0</td>\n",
              "      <td>0.01060</td>\n",
              "      <td>0.944</td>\n",
              "      <td>197923.0</td>\n",
              "      <td>0.559</td>\n",
              "      <td>0.000033</td>\n",
              "      <td>B</td>\n",
              "      <td>0.0775</td>\n",
              "      <td>-7.706</td>\n",
              "      <td>Minor</td>\n",
              "      <td>0.0640</td>\n",
              "      <td>107.992</td>\n",
              "      <td>4-Apr</td>\n",
              "      <td>0.705</td>\n",
              "      <td>Hip-Hop</td>\n",
              "    </tr>\n",
              "  </tbody>\n",
              "</table>\n",
              "<p>49990 rows × 18 columns</p>\n",
              "</div>"
            ],
            "text/plain": [
              "       instance_id           artist_name  ... valence  music_genre\n",
              "0          32894.0              Röyksopp  ...   0.759   Electronic\n",
              "1          46652.0  Thievery Corporation  ...   0.531   Electronic\n",
              "2          30097.0        Dillon Francis  ...   0.333   Electronic\n",
              "3          62177.0              Dubloadz  ...   0.270   Electronic\n",
              "4          24907.0           What So Not  ...   0.323   Electronic\n",
              "...            ...                   ...  ...     ...          ...\n",
              "49990      32849.0               Jeremih  ...   0.400      Hip-Hop\n",
              "49991      40401.0           empty_field  ...   0.464      Hip-Hop\n",
              "49992      67111.0            Ghostemane  ...   0.332      Hip-Hop\n",
              "49993      37756.0                Lecrae  ...   0.276      Hip-Hop\n",
              "49994      21821.0           empty_field  ...   0.705      Hip-Hop\n",
              "\n",
              "[49990 rows x 18 columns]"
            ]
          },
          "metadata": {},
          "execution_count": 19
        }
      ]
    },
    {
      "cell_type": "code",
      "metadata": {
        "colab": {
          "base_uri": "https://localhost:8080/"
        },
        "id": "P7uuuPXTRf7e",
        "outputId": "c6c9fecc-3bdf-4373-d728-01a9041c91c8"
      },
      "source": [
        "music.isnull().sum()"
      ],
      "execution_count": 20,
      "outputs": [
        {
          "output_type": "execute_result",
          "data": {
            "text/plain": [
              "instance_id         0\n",
              "artist_name         0\n",
              "track_name          0\n",
              "popularity          0\n",
              "acousticness        0\n",
              "danceability        0\n",
              "duration_ms         0\n",
              "energy              0\n",
              "instrumentalness    0\n",
              "key                 0\n",
              "liveness            0\n",
              "loudness            0\n",
              "mode                0\n",
              "speechiness         0\n",
              "tempo               0\n",
              "obtained_date       0\n",
              "valence             0\n",
              "music_genre         0\n",
              "dtype: int64"
            ]
          },
          "metadata": {},
          "execution_count": 20
        }
      ]
    },
    {
      "cell_type": "markdown",
      "metadata": {
        "id": "ucsTVOZ1tJ8U"
      },
      "source": [
        "### Encoding categorical data"
      ]
    },
    {
      "cell_type": "code",
      "metadata": {
        "id": "0jp46F5bGTrx"
      },
      "source": [
        "# replace ? as np.nan in tempo and -1 duration_ms\n",
        "music['tempo'].replace(to_replace = '?', value =np.nan, inplace=True)\n",
        "music['duration_ms'].replace(to_replace = -1, value =np.nan, inplace=True)"
      ],
      "execution_count": 21,
      "outputs": []
    },
    {
      "cell_type": "code",
      "metadata": {
        "colab": {
          "base_uri": "https://localhost:8080/"
        },
        "id": "Rw_JmGZtD3t2",
        "outputId": "e1a4ed65-4cad-4699-ea37-c4a0a3f5c9f7"
      },
      "source": [
        "music.isnull().sum()"
      ],
      "execution_count": 22,
      "outputs": [
        {
          "output_type": "execute_result",
          "data": {
            "text/plain": [
              "instance_id            0\n",
              "artist_name            0\n",
              "track_name             0\n",
              "popularity             0\n",
              "acousticness           0\n",
              "danceability           0\n",
              "duration_ms         4939\n",
              "energy                 0\n",
              "instrumentalness       0\n",
              "key                    0\n",
              "liveness               0\n",
              "loudness               0\n",
              "mode                   0\n",
              "speechiness            0\n",
              "tempo               4980\n",
              "obtained_date          0\n",
              "valence                0\n",
              "music_genre            0\n",
              "dtype: int64"
            ]
          },
          "metadata": {},
          "execution_count": 22
        }
      ]
    },
    {
      "cell_type": "code",
      "metadata": {
        "id": "jRbIamK5nR5Z"
      },
      "source": [
        "music.fillna(0,inplace=True)"
      ],
      "execution_count": 23,
      "outputs": []
    },
    {
      "cell_type": "code",
      "metadata": {
        "id": "YCdipgfMZo33"
      },
      "source": [
        "#OP is using a one hot encoder so the fit function won't work with the array @Ishant Mrinal recommends this Y_train = np.argmax(Y_train, axis=1)\n",
        "\n",
        "# separate into input and output columns\n",
        "X = pd.DataFrame(music.iloc[:, :-1])\n",
        "y = pd.DataFrame(music.iloc[:, -1])\n"
      ],
      "execution_count": 24,
      "outputs": []
    },
    {
      "cell_type": "code",
      "metadata": {
        "colab": {
          "base_uri": "https://localhost:8080/",
          "height": 419
        },
        "id": "gYJhLDNcuBiZ",
        "outputId": "8f5cf419-04d3-402d-f33d-eadf011fe8de"
      },
      "source": [
        "y"
      ],
      "execution_count": 25,
      "outputs": [
        {
          "output_type": "execute_result",
          "data": {
            "text/html": [
              "<div>\n",
              "<style scoped>\n",
              "    .dataframe tbody tr th:only-of-type {\n",
              "        vertical-align: middle;\n",
              "    }\n",
              "\n",
              "    .dataframe tbody tr th {\n",
              "        vertical-align: top;\n",
              "    }\n",
              "\n",
              "    .dataframe thead th {\n",
              "        text-align: right;\n",
              "    }\n",
              "</style>\n",
              "<table border=\"1\" class=\"dataframe\">\n",
              "  <thead>\n",
              "    <tr style=\"text-align: right;\">\n",
              "      <th></th>\n",
              "      <th>music_genre</th>\n",
              "    </tr>\n",
              "  </thead>\n",
              "  <tbody>\n",
              "    <tr>\n",
              "      <th>0</th>\n",
              "      <td>Electronic</td>\n",
              "    </tr>\n",
              "    <tr>\n",
              "      <th>1</th>\n",
              "      <td>Electronic</td>\n",
              "    </tr>\n",
              "    <tr>\n",
              "      <th>2</th>\n",
              "      <td>Electronic</td>\n",
              "    </tr>\n",
              "    <tr>\n",
              "      <th>3</th>\n",
              "      <td>Electronic</td>\n",
              "    </tr>\n",
              "    <tr>\n",
              "      <th>4</th>\n",
              "      <td>Electronic</td>\n",
              "    </tr>\n",
              "    <tr>\n",
              "      <th>...</th>\n",
              "      <td>...</td>\n",
              "    </tr>\n",
              "    <tr>\n",
              "      <th>50000</th>\n",
              "      <td>Hip-Hop</td>\n",
              "    </tr>\n",
              "    <tr>\n",
              "      <th>50001</th>\n",
              "      <td>Hip-Hop</td>\n",
              "    </tr>\n",
              "    <tr>\n",
              "      <th>50002</th>\n",
              "      <td>Hip-Hop</td>\n",
              "    </tr>\n",
              "    <tr>\n",
              "      <th>50003</th>\n",
              "      <td>Hip-Hop</td>\n",
              "    </tr>\n",
              "    <tr>\n",
              "      <th>50004</th>\n",
              "      <td>Hip-Hop</td>\n",
              "    </tr>\n",
              "  </tbody>\n",
              "</table>\n",
              "<p>50000 rows × 1 columns</p>\n",
              "</div>"
            ],
            "text/plain": [
              "      music_genre\n",
              "0      Electronic\n",
              "1      Electronic\n",
              "2      Electronic\n",
              "3      Electronic\n",
              "4      Electronic\n",
              "...           ...\n",
              "50000     Hip-Hop\n",
              "50001     Hip-Hop\n",
              "50002     Hip-Hop\n",
              "50003     Hip-Hop\n",
              "50004     Hip-Hop\n",
              "\n",
              "[50000 rows x 1 columns]"
            ]
          },
          "metadata": {},
          "execution_count": 25
        }
      ]
    },
    {
      "cell_type": "code",
      "metadata": {
        "colab": {
          "base_uri": "https://localhost:8080/",
          "height": 419
        },
        "id": "3EkJbWWDt_nB",
        "outputId": "7a177177-b385-4021-8cf6-cb6d6ff2a824"
      },
      "source": [
        "# creating instance of labelencoder\n",
        "labelencoder = LabelEncoder()\n",
        "# Assigning numerical values and storing in another column\n",
        "from sklearn import preprocessing\n",
        "y['genre_Category'] = labelencoder.fit_transform(y['music_genre'])\n",
        "y"
      ],
      "execution_count": 26,
      "outputs": [
        {
          "output_type": "execute_result",
          "data": {
            "text/html": [
              "<div>\n",
              "<style scoped>\n",
              "    .dataframe tbody tr th:only-of-type {\n",
              "        vertical-align: middle;\n",
              "    }\n",
              "\n",
              "    .dataframe tbody tr th {\n",
              "        vertical-align: top;\n",
              "    }\n",
              "\n",
              "    .dataframe thead th {\n",
              "        text-align: right;\n",
              "    }\n",
              "</style>\n",
              "<table border=\"1\" class=\"dataframe\">\n",
              "  <thead>\n",
              "    <tr style=\"text-align: right;\">\n",
              "      <th></th>\n",
              "      <th>music_genre</th>\n",
              "      <th>genre_Category</th>\n",
              "    </tr>\n",
              "  </thead>\n",
              "  <tbody>\n",
              "    <tr>\n",
              "      <th>0</th>\n",
              "      <td>Electronic</td>\n",
              "      <td>5</td>\n",
              "    </tr>\n",
              "    <tr>\n",
              "      <th>1</th>\n",
              "      <td>Electronic</td>\n",
              "      <td>5</td>\n",
              "    </tr>\n",
              "    <tr>\n",
              "      <th>2</th>\n",
              "      <td>Electronic</td>\n",
              "      <td>5</td>\n",
              "    </tr>\n",
              "    <tr>\n",
              "      <th>3</th>\n",
              "      <td>Electronic</td>\n",
              "      <td>5</td>\n",
              "    </tr>\n",
              "    <tr>\n",
              "      <th>4</th>\n",
              "      <td>Electronic</td>\n",
              "      <td>5</td>\n",
              "    </tr>\n",
              "    <tr>\n",
              "      <th>...</th>\n",
              "      <td>...</td>\n",
              "      <td>...</td>\n",
              "    </tr>\n",
              "    <tr>\n",
              "      <th>50000</th>\n",
              "      <td>Hip-Hop</td>\n",
              "      <td>6</td>\n",
              "    </tr>\n",
              "    <tr>\n",
              "      <th>50001</th>\n",
              "      <td>Hip-Hop</td>\n",
              "      <td>6</td>\n",
              "    </tr>\n",
              "    <tr>\n",
              "      <th>50002</th>\n",
              "      <td>Hip-Hop</td>\n",
              "      <td>6</td>\n",
              "    </tr>\n",
              "    <tr>\n",
              "      <th>50003</th>\n",
              "      <td>Hip-Hop</td>\n",
              "      <td>6</td>\n",
              "    </tr>\n",
              "    <tr>\n",
              "      <th>50004</th>\n",
              "      <td>Hip-Hop</td>\n",
              "      <td>6</td>\n",
              "    </tr>\n",
              "  </tbody>\n",
              "</table>\n",
              "<p>50000 rows × 2 columns</p>\n",
              "</div>"
            ],
            "text/plain": [
              "      music_genre  genre_Category\n",
              "0      Electronic               5\n",
              "1      Electronic               5\n",
              "2      Electronic               5\n",
              "3      Electronic               5\n",
              "4      Electronic               5\n",
              "...           ...             ...\n",
              "50000     Hip-Hop               6\n",
              "50001     Hip-Hop               6\n",
              "50002     Hip-Hop               6\n",
              "50003     Hip-Hop               6\n",
              "50004     Hip-Hop               6\n",
              "\n",
              "[50000 rows x 2 columns]"
            ]
          },
          "metadata": {},
          "execution_count": 26
        }
      ]
    },
    {
      "cell_type": "code",
      "metadata": {
        "id": "6LOF5sM9yqUz"
      },
      "source": [
        "y.drop(['music_genre'], axis=1, inplace=True)"
      ],
      "execution_count": 27,
      "outputs": []
    },
    {
      "cell_type": "code",
      "metadata": {
        "colab": {
          "base_uri": "https://localhost:8080/"
        },
        "id": "f46CaBmKkYvu",
        "outputId": "19227212-e036-4f77-e110-d60526f57137"
      },
      "source": [
        "X.shape"
      ],
      "execution_count": 28,
      "outputs": [
        {
          "output_type": "execute_result",
          "data": {
            "text/plain": [
              "(50000, 17)"
            ]
          },
          "metadata": {},
          "execution_count": 28
        }
      ]
    },
    {
      "cell_type": "code",
      "metadata": {
        "colab": {
          "base_uri": "https://localhost:8080/",
          "height": 419
        },
        "id": "ewcwQjsakg21",
        "outputId": "f9d7c6c8-3481-47bf-d3db-78be3be3dfae"
      },
      "source": [
        "y"
      ],
      "execution_count": 29,
      "outputs": [
        {
          "output_type": "execute_result",
          "data": {
            "text/html": [
              "<div>\n",
              "<style scoped>\n",
              "    .dataframe tbody tr th:only-of-type {\n",
              "        vertical-align: middle;\n",
              "    }\n",
              "\n",
              "    .dataframe tbody tr th {\n",
              "        vertical-align: top;\n",
              "    }\n",
              "\n",
              "    .dataframe thead th {\n",
              "        text-align: right;\n",
              "    }\n",
              "</style>\n",
              "<table border=\"1\" class=\"dataframe\">\n",
              "  <thead>\n",
              "    <tr style=\"text-align: right;\">\n",
              "      <th></th>\n",
              "      <th>genre_Category</th>\n",
              "    </tr>\n",
              "  </thead>\n",
              "  <tbody>\n",
              "    <tr>\n",
              "      <th>0</th>\n",
              "      <td>5</td>\n",
              "    </tr>\n",
              "    <tr>\n",
              "      <th>1</th>\n",
              "      <td>5</td>\n",
              "    </tr>\n",
              "    <tr>\n",
              "      <th>2</th>\n",
              "      <td>5</td>\n",
              "    </tr>\n",
              "    <tr>\n",
              "      <th>3</th>\n",
              "      <td>5</td>\n",
              "    </tr>\n",
              "    <tr>\n",
              "      <th>4</th>\n",
              "      <td>5</td>\n",
              "    </tr>\n",
              "    <tr>\n",
              "      <th>...</th>\n",
              "      <td>...</td>\n",
              "    </tr>\n",
              "    <tr>\n",
              "      <th>50000</th>\n",
              "      <td>6</td>\n",
              "    </tr>\n",
              "    <tr>\n",
              "      <th>50001</th>\n",
              "      <td>6</td>\n",
              "    </tr>\n",
              "    <tr>\n",
              "      <th>50002</th>\n",
              "      <td>6</td>\n",
              "    </tr>\n",
              "    <tr>\n",
              "      <th>50003</th>\n",
              "      <td>6</td>\n",
              "    </tr>\n",
              "    <tr>\n",
              "      <th>50004</th>\n",
              "      <td>6</td>\n",
              "    </tr>\n",
              "  </tbody>\n",
              "</table>\n",
              "<p>50000 rows × 1 columns</p>\n",
              "</div>"
            ],
            "text/plain": [
              "       genre_Category\n",
              "0                   5\n",
              "1                   5\n",
              "2                   5\n",
              "3                   5\n",
              "4                   5\n",
              "...               ...\n",
              "50000               6\n",
              "50001               6\n",
              "50002               6\n",
              "50003               6\n",
              "50004               6\n",
              "\n",
              "[50000 rows x 1 columns]"
            ]
          },
          "metadata": {},
          "execution_count": 29
        }
      ]
    },
    {
      "cell_type": "code",
      "metadata": {
        "colab": {
          "base_uri": "https://localhost:8080/"
        },
        "id": "tA5DfTKR16yq",
        "outputId": "3a280e30-0064-4730-dd6a-636d6a49a3a9"
      },
      "source": [
        "y.shape"
      ],
      "execution_count": 30,
      "outputs": [
        {
          "output_type": "execute_result",
          "data": {
            "text/plain": [
              "(50000, 1)"
            ]
          },
          "metadata": {},
          "execution_count": 30
        }
      ]
    },
    {
      "cell_type": "code",
      "metadata": {
        "id": "q8XcrekHlGOh"
      },
      "source": [
        "X_train, X_test, y_train, y_test = train_test_split(X, y, test_size=0.2, stratify=y, random_state=0, shuffle=True)"
      ],
      "execution_count": 31,
      "outputs": []
    },
    {
      "cell_type": "code",
      "metadata": {
        "id": "_WjwGiU7u_Wx"
      },
      "source": [
        "#Dropping categorical/discrete data columns\n",
        "X_train.drop(['instance_id', 'artist_name', 'track_name', 'key', 'mode', 'obtained_date'], axis=1, inplace=True)\n",
        "X_test.drop(['instance_id', 'artist_name', 'track_name', 'key', 'mode', 'obtained_date'], axis=1, inplace=True)\n",
        "X.drop(['instance_id', 'artist_name', 'track_name', 'key', 'mode', 'obtained_date'], axis=1, inplace=True)"
      ],
      "execution_count": 32,
      "outputs": []
    },
    {
      "cell_type": "code",
      "metadata": {
        "colab": {
          "base_uri": "https://localhost:8080/",
          "height": 419
        },
        "id": "493_ylgp0Vnp",
        "outputId": "f1e94629-a6ed-4692-ce24-61dfb33be0cd"
      },
      "source": [
        "X_train"
      ],
      "execution_count": 33,
      "outputs": [
        {
          "output_type": "execute_result",
          "data": {
            "text/html": [
              "<div>\n",
              "<style scoped>\n",
              "    .dataframe tbody tr th:only-of-type {\n",
              "        vertical-align: middle;\n",
              "    }\n",
              "\n",
              "    .dataframe tbody tr th {\n",
              "        vertical-align: top;\n",
              "    }\n",
              "\n",
              "    .dataframe thead th {\n",
              "        text-align: right;\n",
              "    }\n",
              "</style>\n",
              "<table border=\"1\" class=\"dataframe\">\n",
              "  <thead>\n",
              "    <tr style=\"text-align: right;\">\n",
              "      <th></th>\n",
              "      <th>popularity</th>\n",
              "      <th>acousticness</th>\n",
              "      <th>danceability</th>\n",
              "      <th>duration_ms</th>\n",
              "      <th>energy</th>\n",
              "      <th>instrumentalness</th>\n",
              "      <th>liveness</th>\n",
              "      <th>loudness</th>\n",
              "      <th>speechiness</th>\n",
              "      <th>tempo</th>\n",
              "      <th>valence</th>\n",
              "    </tr>\n",
              "  </thead>\n",
              "  <tbody>\n",
              "    <tr>\n",
              "      <th>12564</th>\n",
              "      <td>37.0</td>\n",
              "      <td>0.84400</td>\n",
              "      <td>0.533</td>\n",
              "      <td>189507.0</td>\n",
              "      <td>0.423</td>\n",
              "      <td>0.5720</td>\n",
              "      <td>0.1460</td>\n",
              "      <td>-13.553</td>\n",
              "      <td>0.0358</td>\n",
              "      <td>109.185</td>\n",
              "      <td>0.8200</td>\n",
              "    </tr>\n",
              "    <tr>\n",
              "      <th>24122</th>\n",
              "      <td>48.0</td>\n",
              "      <td>0.09250</td>\n",
              "      <td>0.412</td>\n",
              "      <td>321373.0</td>\n",
              "      <td>0.917</td>\n",
              "      <td>0.0143</td>\n",
              "      <td>0.2400</td>\n",
              "      <td>-7.036</td>\n",
              "      <td>0.0525</td>\n",
              "      <td>136.85</td>\n",
              "      <td>0.3130</td>\n",
              "    </tr>\n",
              "    <tr>\n",
              "      <th>7029</th>\n",
              "      <td>23.0</td>\n",
              "      <td>0.01900</td>\n",
              "      <td>0.519</td>\n",
              "      <td>256560.0</td>\n",
              "      <td>0.875</td>\n",
              "      <td>0.0000</td>\n",
              "      <td>0.3150</td>\n",
              "      <td>-4.542</td>\n",
              "      <td>0.0406</td>\n",
              "      <td>104.04</td>\n",
              "      <td>0.5460</td>\n",
              "    </tr>\n",
              "    <tr>\n",
              "      <th>4014</th>\n",
              "      <td>34.0</td>\n",
              "      <td>0.00170</td>\n",
              "      <td>0.473</td>\n",
              "      <td>172593.0</td>\n",
              "      <td>0.719</td>\n",
              "      <td>0.3530</td>\n",
              "      <td>0.2710</td>\n",
              "      <td>-6.735</td>\n",
              "      <td>0.0511</td>\n",
              "      <td>81.013</td>\n",
              "      <td>0.0583</td>\n",
              "    </tr>\n",
              "    <tr>\n",
              "      <th>48021</th>\n",
              "      <td>67.0</td>\n",
              "      <td>0.01420</td>\n",
              "      <td>0.648</td>\n",
              "      <td>324307.0</td>\n",
              "      <td>0.759</td>\n",
              "      <td>0.0000</td>\n",
              "      <td>0.6480</td>\n",
              "      <td>-4.315</td>\n",
              "      <td>0.3060</td>\n",
              "      <td>85.99600000000001</td>\n",
              "      <td>0.5180</td>\n",
              "    </tr>\n",
              "    <tr>\n",
              "      <th>...</th>\n",
              "      <td>...</td>\n",
              "      <td>...</td>\n",
              "      <td>...</td>\n",
              "      <td>...</td>\n",
              "      <td>...</td>\n",
              "      <td>...</td>\n",
              "      <td>...</td>\n",
              "      <td>...</td>\n",
              "      <td>...</td>\n",
              "      <td>...</td>\n",
              "      <td>...</td>\n",
              "    </tr>\n",
              "    <tr>\n",
              "      <th>48459</th>\n",
              "      <td>44.0</td>\n",
              "      <td>0.26300</td>\n",
              "      <td>0.841</td>\n",
              "      <td>294040.0</td>\n",
              "      <td>0.835</td>\n",
              "      <td>0.0000</td>\n",
              "      <td>0.1080</td>\n",
              "      <td>-6.191</td>\n",
              "      <td>0.3080</td>\n",
              "      <td>133.024</td>\n",
              "      <td>0.7020</td>\n",
              "    </tr>\n",
              "    <tr>\n",
              "      <th>38316</th>\n",
              "      <td>25.0</td>\n",
              "      <td>0.07690</td>\n",
              "      <td>0.636</td>\n",
              "      <td>124400.0</td>\n",
              "      <td>0.903</td>\n",
              "      <td>0.0000</td>\n",
              "      <td>0.0903</td>\n",
              "      <td>-4.014</td>\n",
              "      <td>0.0745</td>\n",
              "      <td>148.066</td>\n",
              "      <td>0.4940</td>\n",
              "    </tr>\n",
              "    <tr>\n",
              "      <th>17897</th>\n",
              "      <td>52.0</td>\n",
              "      <td>0.91300</td>\n",
              "      <td>0.550</td>\n",
              "      <td>159000.0</td>\n",
              "      <td>0.145</td>\n",
              "      <td>0.0000</td>\n",
              "      <td>0.1180</td>\n",
              "      <td>-15.753</td>\n",
              "      <td>0.0332</td>\n",
              "      <td>103.91799999999999</td>\n",
              "      <td>0.1380</td>\n",
              "    </tr>\n",
              "    <tr>\n",
              "      <th>19137</th>\n",
              "      <td>55.0</td>\n",
              "      <td>0.24000</td>\n",
              "      <td>0.731</td>\n",
              "      <td>196619.0</td>\n",
              "      <td>0.563</td>\n",
              "      <td>0.0000</td>\n",
              "      <td>0.0880</td>\n",
              "      <td>-6.745</td>\n",
              "      <td>0.0306</td>\n",
              "      <td>0</td>\n",
              "      <td>0.3740</td>\n",
              "    </tr>\n",
              "    <tr>\n",
              "      <th>1109</th>\n",
              "      <td>66.0</td>\n",
              "      <td>0.00314</td>\n",
              "      <td>0.307</td>\n",
              "      <td>182576.0</td>\n",
              "      <td>0.828</td>\n",
              "      <td>0.0000</td>\n",
              "      <td>0.1710</td>\n",
              "      <td>-3.370</td>\n",
              "      <td>0.0967</td>\n",
              "      <td>149.86</td>\n",
              "      <td>0.2000</td>\n",
              "    </tr>\n",
              "  </tbody>\n",
              "</table>\n",
              "<p>40000 rows × 11 columns</p>\n",
              "</div>"
            ],
            "text/plain": [
              "       popularity  acousticness  ...               tempo  valence\n",
              "12564        37.0       0.84400  ...             109.185   0.8200\n",
              "24122        48.0       0.09250  ...              136.85   0.3130\n",
              "7029         23.0       0.01900  ...              104.04   0.5460\n",
              "4014         34.0       0.00170  ...              81.013   0.0583\n",
              "48021        67.0       0.01420  ...   85.99600000000001   0.5180\n",
              "...           ...           ...  ...                 ...      ...\n",
              "48459        44.0       0.26300  ...             133.024   0.7020\n",
              "38316        25.0       0.07690  ...             148.066   0.4940\n",
              "17897        52.0       0.91300  ...  103.91799999999999   0.1380\n",
              "19137        55.0       0.24000  ...                   0   0.3740\n",
              "1109         66.0       0.00314  ...              149.86   0.2000\n",
              "\n",
              "[40000 rows x 11 columns]"
            ]
          },
          "metadata": {},
          "execution_count": 33
        }
      ]
    },
    {
      "cell_type": "code",
      "metadata": {
        "id": "qzJ7pniMdwCt"
      },
      "source": [
        "#Using standard scaler for standardisation\n",
        "sc_X = StandardScaler() # created an object with the scaling class\n",
        "\n",
        "X_train = sc_X.fit_transform(X_train)  # Here we fit and transform the X_train matrix\n",
        "X_test = sc_X.transform(X_test)"
      ],
      "execution_count": 34,
      "outputs": []
    },
    {
      "cell_type": "code",
      "metadata": {
        "colab": {
          "base_uri": "https://localhost:8080/"
        },
        "id": "9fvxtCvV0fn8",
        "outputId": "6de6d23a-324c-428e-ec19-cb6f7d6d5174"
      },
      "source": [
        "X_train"
      ],
      "execution_count": 35,
      "outputs": [
        {
          "output_type": "execute_result",
          "data": {
            "text/plain": [
              "array([[-0.46522094,  1.57541156, -0.14341175, ..., -0.56977521,\n",
              "         0.02558387,  1.46591079],\n",
              "       [ 0.24309843, -0.6268623 , -0.82089229, ..., -0.40484482,\n",
              "         0.62280502, -0.58371244],\n",
              "       [-1.36671832, -0.84225435, -0.22179793, ..., -0.52237007,\n",
              "        -0.08548437,  0.35822486],\n",
              "       ...,\n",
              "       [ 0.50066911,  1.77761635, -0.04822854, ..., -0.595453  ,\n",
              "        -0.08811806, -1.29117609],\n",
              "       [ 0.69384712, -0.19461294,  0.96519276, ..., -0.62113078,\n",
              "        -2.33145903, -0.33711083],\n",
              "       [ 1.40216649, -0.88873215, -1.40878862, ...,  0.03167752,\n",
              "         0.9036598 , -1.04053182]])"
            ]
          },
          "metadata": {},
          "execution_count": 35
        }
      ]
    },
    {
      "cell_type": "code",
      "metadata": {
        "colab": {
          "base_uri": "https://localhost:8080/",
          "height": 52
        },
        "id": "qgzgSkFMlph7",
        "outputId": "e26e6265-0bb9-44a0-c475-ad7611688b4f"
      },
      "source": [
        "\"\"\"\n",
        "scaler = MinMaxScaler()\n",
        "scaler.fit(X_train.reshape(1,-1))\n",
        "\n",
        "X_train = pd.DataFrame(scaler.transform(X_train), columns = X.columns).reset_index(drop=True, inplace=True)\n",
        "X_test = pd.DataFrame(scaler.transform(X_test), columns = X.columns).reset_index(drop=True, inplace=True)\n",
        "\"\"\""
      ],
      "execution_count": 36,
      "outputs": [
        {
          "output_type": "execute_result",
          "data": {
            "application/vnd.google.colaboratory.intrinsic+json": {
              "type": "string"
            },
            "text/plain": [
              "'\\nscaler = MinMaxScaler()\\nscaler.fit(X_train.reshape(1,-1))\\n\\nX_train = pd.DataFrame(scaler.transform(X_train), columns = X.columns).reset_index(drop=True, inplace=True)\\nX_test = pd.DataFrame(scaler.transform(X_test), columns = X.columns).reset_index(drop=True, inplace=True)\\n'"
            ]
          },
          "metadata": {},
          "execution_count": 36
        }
      ]
    },
    {
      "cell_type": "code",
      "metadata": {
        "colab": {
          "base_uri": "https://localhost:8080/",
          "height": 419
        },
        "id": "leDClWjyL93n",
        "outputId": "1aa53ab1-cf88-4982-c821-9e19484c47f8"
      },
      "source": [
        "y_train"
      ],
      "execution_count": 37,
      "outputs": [
        {
          "output_type": "execute_result",
          "data": {
            "text/html": [
              "<div>\n",
              "<style scoped>\n",
              "    .dataframe tbody tr th:only-of-type {\n",
              "        vertical-align: middle;\n",
              "    }\n",
              "\n",
              "    .dataframe tbody tr th {\n",
              "        vertical-align: top;\n",
              "    }\n",
              "\n",
              "    .dataframe thead th {\n",
              "        text-align: right;\n",
              "    }\n",
              "</style>\n",
              "<table border=\"1\" class=\"dataframe\">\n",
              "  <thead>\n",
              "    <tr style=\"text-align: right;\">\n",
              "      <th></th>\n",
              "      <th>genre_Category</th>\n",
              "    </tr>\n",
              "  </thead>\n",
              "  <tbody>\n",
              "    <tr>\n",
              "      <th>12564</th>\n",
              "      <td>7</td>\n",
              "    </tr>\n",
              "    <tr>\n",
              "      <th>24122</th>\n",
              "      <td>4</td>\n",
              "    </tr>\n",
              "    <tr>\n",
              "      <th>7029</th>\n",
              "      <td>1</td>\n",
              "    </tr>\n",
              "    <tr>\n",
              "      <th>4014</th>\n",
              "      <td>5</td>\n",
              "    </tr>\n",
              "    <tr>\n",
              "      <th>48021</th>\n",
              "      <td>6</td>\n",
              "    </tr>\n",
              "    <tr>\n",
              "      <th>...</th>\n",
              "      <td>...</td>\n",
              "    </tr>\n",
              "    <tr>\n",
              "      <th>48459</th>\n",
              "      <td>6</td>\n",
              "    </tr>\n",
              "    <tr>\n",
              "      <th>38316</th>\n",
              "      <td>9</td>\n",
              "    </tr>\n",
              "    <tr>\n",
              "      <th>17897</th>\n",
              "      <td>0</td>\n",
              "    </tr>\n",
              "    <tr>\n",
              "      <th>19137</th>\n",
              "      <td>0</td>\n",
              "    </tr>\n",
              "    <tr>\n",
              "      <th>1109</th>\n",
              "      <td>5</td>\n",
              "    </tr>\n",
              "  </tbody>\n",
              "</table>\n",
              "<p>40000 rows × 1 columns</p>\n",
              "</div>"
            ],
            "text/plain": [
              "       genre_Category\n",
              "12564               7\n",
              "24122               4\n",
              "7029                1\n",
              "4014                5\n",
              "48021               6\n",
              "...               ...\n",
              "48459               6\n",
              "38316               9\n",
              "17897               0\n",
              "19137               0\n",
              "1109                5\n",
              "\n",
              "[40000 rows x 1 columns]"
            ]
          },
          "metadata": {},
          "execution_count": 37
        }
      ]
    },
    {
      "cell_type": "code",
      "metadata": {
        "colab": {
          "base_uri": "https://localhost:8080/",
          "height": 419
        },
        "id": "PF6rJEifMD6h",
        "outputId": "3907930c-392c-4ee9-8c7f-14604b551dbb"
      },
      "source": [
        "y_test"
      ],
      "execution_count": 38,
      "outputs": [
        {
          "output_type": "execute_result",
          "data": {
            "text/html": [
              "<div>\n",
              "<style scoped>\n",
              "    .dataframe tbody tr th:only-of-type {\n",
              "        vertical-align: middle;\n",
              "    }\n",
              "\n",
              "    .dataframe tbody tr th {\n",
              "        vertical-align: top;\n",
              "    }\n",
              "\n",
              "    .dataframe thead th {\n",
              "        text-align: right;\n",
              "    }\n",
              "</style>\n",
              "<table border=\"1\" class=\"dataframe\">\n",
              "  <thead>\n",
              "    <tr style=\"text-align: right;\">\n",
              "      <th></th>\n",
              "      <th>genre_Category</th>\n",
              "    </tr>\n",
              "  </thead>\n",
              "  <tbody>\n",
              "    <tr>\n",
              "      <th>24032</th>\n",
              "      <td>4</td>\n",
              "    </tr>\n",
              "    <tr>\n",
              "      <th>23383</th>\n",
              "      <td>4</td>\n",
              "    </tr>\n",
              "    <tr>\n",
              "      <th>23579</th>\n",
              "      <td>4</td>\n",
              "    </tr>\n",
              "    <tr>\n",
              "      <th>41471</th>\n",
              "      <td>3</td>\n",
              "    </tr>\n",
              "    <tr>\n",
              "      <th>43750</th>\n",
              "      <td>3</td>\n",
              "    </tr>\n",
              "    <tr>\n",
              "      <th>...</th>\n",
              "      <td>...</td>\n",
              "    </tr>\n",
              "    <tr>\n",
              "      <th>21290</th>\n",
              "      <td>4</td>\n",
              "    </tr>\n",
              "    <tr>\n",
              "      <th>24007</th>\n",
              "      <td>4</td>\n",
              "    </tr>\n",
              "    <tr>\n",
              "      <th>18401</th>\n",
              "      <td>0</td>\n",
              "    </tr>\n",
              "    <tr>\n",
              "      <th>7974</th>\n",
              "      <td>1</td>\n",
              "    </tr>\n",
              "    <tr>\n",
              "      <th>16129</th>\n",
              "      <td>0</td>\n",
              "    </tr>\n",
              "  </tbody>\n",
              "</table>\n",
              "<p>10000 rows × 1 columns</p>\n",
              "</div>"
            ],
            "text/plain": [
              "       genre_Category\n",
              "24032               4\n",
              "23383               4\n",
              "23579               4\n",
              "41471               3\n",
              "43750               3\n",
              "...               ...\n",
              "21290               4\n",
              "24007               4\n",
              "18401               0\n",
              "7974                1\n",
              "16129               0\n",
              "\n",
              "[10000 rows x 1 columns]"
            ]
          },
          "metadata": {},
          "execution_count": 38
        }
      ]
    },
    {
      "cell_type": "markdown",
      "metadata": {
        "id": "GchBcNvev80j"
      },
      "source": [
        "### Modeling and validation"
      ]
    },
    {
      "cell_type": "markdown",
      "metadata": {
        "id": "0OFzrjkyZT9C"
      },
      "source": [
        "Logistic regression is implemented here as one-vs-rest method, i.e. 10 different classifiers trained"
      ]
    },
    {
      "cell_type": "code",
      "metadata": {
        "colab": {
          "base_uri": "https://localhost:8080/"
        },
        "id": "2KXkH5mx4q6H",
        "outputId": "a85a3241-d274-40fe-c55a-6988abda3a70"
      },
      "source": [
        "# Train logistic regression model OVR\n",
        "\n",
        "logreg = LogisticRegression(penalty='l2', max_iter=10000,multi_class='ovr')\n",
        "logreg.fit(X_train, y_train)\n",
        "logreg_pred = logreg.predict(X_test)"
      ],
      "execution_count": 40,
      "outputs": [
        {
          "output_type": "stream",
          "name": "stderr",
          "text": [
            "/usr/local/lib/python3.7/dist-packages/sklearn/utils/validation.py:985: DataConversionWarning: A column-vector y was passed when a 1d array was expected. Please change the shape of y to (n_samples, ), for example using ravel().\n",
            "  y = column_or_1d(y, warn=True)\n"
          ]
        }
      ]
    },
    {
      "cell_type": "code",
      "metadata": {
        "colab": {
          "base_uri": "https://localhost:8080/"
        },
        "id": "G-dJ-68D5drI",
        "outputId": "0c7cb93a-031f-42cb-b02a-c899fc65bf96"
      },
      "source": [
        "# Display Results as Confusion matrix\n",
        "logreg_matrix = metrics.confusion_matrix(y_test, logreg_pred)\n",
        "logreg_matrix"
      ],
      "execution_count": 41,
      "outputs": [
        {
          "output_type": "execute_result",
          "data": {
            "text/plain": [
              "array([[277,  10,  38,   8, 209,  82,  99,  56,  29, 192],\n",
              "       [ 38, 579,  85, 127,  45,  78,   0,  42,   1,   5],\n",
              "       [ 37, 173, 427,  27, 138,  63,   7,  82,   0,  46],\n",
              "       [ 16,  48,  20, 826,  14,  30,   0,  46,   0,   0],\n",
              "       [ 55,  26, 119,   7, 524,  34,  24,  26,   5, 180],\n",
              "       [ 45,  94,  68,  20,  52, 574,  37,  77,  11,  22],\n",
              "       [ 57,   0,   5,   4,  46,  25, 476,  18, 288,  81],\n",
              "       [ 20,  30, 134, 111, 131, 167,  46, 319,   1,  41],\n",
              "       [ 71,   1,   4,   0,  36,   9, 375,  20, 335, 149],\n",
              "       [ 82,   2,   8,   5, 115,  12,  12,  26,  40, 698]])"
            ]
          },
          "metadata": {},
          "execution_count": 41
        }
      ]
    },
    {
      "cell_type": "code",
      "metadata": {
        "colab": {
          "base_uri": "https://localhost:8080/"
        },
        "id": "D-BbYKdB5rhk",
        "outputId": "cdb2ceb9-2c18-4af0-e5a6-3531e4a42266"
      },
      "source": [
        "#Displaying metrics for evaluation\n",
        "print(\"Accuracy:\",metrics.accuracy_score(y_test, logreg_pred))\n",
        "print(\"Precision:\",metrics.precision_score(y_test, logreg_pred, average = 'micro'))\n",
        "print(\"Recall:\",metrics.recall_score(y_test, logreg_pred, average='micro'))\n",
        "print('F1 Score: ',f1_score(logreg_pred,y_test, average= \"weighted\"))"
      ],
      "execution_count": 42,
      "outputs": [
        {
          "output_type": "stream",
          "name": "stdout",
          "text": [
            "Accuracy: 0.5035\n",
            "Precision: 0.5035\n",
            "Recall: 0.5035\n",
            "F1 Score:  0.5123917506873722\n"
          ]
        }
      ]
    },
    {
      "cell_type": "markdown",
      "metadata": {
        "id": "v6KW9j5cPslM"
      },
      "source": [
        "Support vector machine"
      ]
    },
    {
      "cell_type": "code",
      "metadata": {
        "colab": {
          "base_uri": "https://localhost:8080/"
        },
        "id": "1GMF4lN-mFq8",
        "outputId": "1d3b953d-ec62-46fe-e842-167ae7aada04"
      },
      "source": [
        "#y_train = np.argmax(y_train, axis=1)\n",
        "clf = SVC(decision_function_shape='ovr', kernel = 'rbf', gamma='auto')\n",
        "clf.fit(X_train,y_train)\n",
        "clf_pred = clf.predict(X_test)"
      ],
      "execution_count": 46,
      "outputs": [
        {
          "output_type": "stream",
          "name": "stderr",
          "text": [
            "/usr/local/lib/python3.7/dist-packages/sklearn/utils/validation.py:985: DataConversionWarning: A column-vector y was passed when a 1d array was expected. Please change the shape of y to (n_samples, ), for example using ravel().\n",
            "  y = column_or_1d(y, warn=True)\n"
          ]
        }
      ]
    },
    {
      "cell_type": "code",
      "metadata": {
        "colab": {
          "base_uri": "https://localhost:8080/"
        },
        "id": "YuX6-YeJ_2R4",
        "outputId": "a16cdbd0-cebd-4706-ddca-e4208ca229ef"
      },
      "source": [
        "# Display Results as confusion matrix\n",
        "svc_matrix = metrics.confusion_matrix(y_test, clf_pred)\n",
        "svc_matrix"
      ],
      "execution_count": 47,
      "outputs": [
        {
          "output_type": "execute_result",
          "data": {
            "text/plain": [
              "array([[419,  11,  27,   3, 139,  48,  83,  49,  40, 181],\n",
              "       [ 33, 740,  71,  66,  41,  30,   0,  16,   2,   1],\n",
              "       [ 58,  91, 530,  17,  97,  51,   1, 109,   1,  45],\n",
              "       [ 16,  46,  33, 841,   4,  18,   0,  41,   0,   1],\n",
              "       [ 89,  22,  52,   4, 530,  18,  26,  58,   6, 195],\n",
              "       [ 57,  50,  69,  10,  51, 588,  28, 108,  15,  24],\n",
              "       [ 42,   0,   3,   0,  11,   5, 442,   7, 436,  54],\n",
              "       [ 74,  14, 121,  67,  72, 127,  20, 454,   5,  46],\n",
              "       [ 46,   0,   2,   0,  11,   7, 386,  11, 411, 126],\n",
              "       [119,   3,  17,   2,  51,   5,  26,  22,  58, 697]])"
            ]
          },
          "metadata": {},
          "execution_count": 47
        }
      ]
    },
    {
      "cell_type": "code",
      "metadata": {
        "colab": {
          "base_uri": "https://localhost:8080/"
        },
        "id": "DMs82_L0hhJU",
        "outputId": "594b4a2b-7036-4632-bd10-6ea216936c28"
      },
      "source": [
        "print(\"Accuracy:\",metrics.accuracy_score(y_test, clf_pred))\n",
        "print(\"Precision:\",metrics.precision_score(y_test, clf_pred, average = 'micro'))\n",
        "print(\"Recall:\",metrics.recall_score(y_test, clf_pred, average='micro'))\n",
        "print('F1 Score: ',f1_score(y_test, clf_pred, average= \"weighted\"))"
      ],
      "execution_count": 48,
      "outputs": [
        {
          "output_type": "stream",
          "name": "stdout",
          "text": [
            "Accuracy: 0.5652\n",
            "Precision: 0.5652\n",
            "Recall: 0.5652\n",
            "F1 Score:  0.5641464916679807\n"
          ]
        }
      ]
    },
    {
      "cell_type": "markdown",
      "metadata": {
        "id": "17GTdoJ1Pe6U"
      },
      "source": [
        "Random Forest Classifier"
      ]
    },
    {
      "cell_type": "code",
      "metadata": {
        "colab": {
          "base_uri": "https://localhost:8080/"
        },
        "id": "pE_kkBZ_iZtY",
        "outputId": "c6a2ddaa-5df7-463b-e481-f145db10cd7d"
      },
      "source": [
        "# Train random forest model with optimal parameters\n",
        "rf = RandomForestClassifier(max_depth=25, min_samples_leaf=1, min_samples_split=5, n_estimators=1200)\n",
        "rf.fit(X_train, y_train)\n",
        "# Probabilities of each genre \n",
        "rf_probs = rf.predict(X_test)"
      ],
      "execution_count": null,
      "outputs": [
        {
          "output_type": "stream",
          "name": "stderr",
          "text": [
            "/usr/local/lib/python3.7/dist-packages/ipykernel_launcher.py:3: DataConversionWarning: A column-vector y was passed when a 1d array was expected. Please change the shape of y to (n_samples,), for example using ravel().\n",
            "  This is separate from the ipykernel package so we can avoid doing imports until\n"
          ]
        }
      ]
    },
    {
      "cell_type": "code",
      "metadata": {
        "colab": {
          "base_uri": "https://localhost:8080/"
        },
        "id": "UEzNPB7Cpthz",
        "outputId": "fa44f80b-93de-49b2-b6ca-6b1d18d4135a"
      },
      "source": [
        "#Confusion matrix\n",
        "rf_matrix = metrics.confusion_matrix(y_test, rf_probs)\n",
        "rf_matrix"
      ],
      "execution_count": null,
      "outputs": [
        {
          "output_type": "execute_result",
          "data": {
            "text/plain": [
              "array([[398,   5,  23,   1, 121,  53,  74,  63,  59, 203],\n",
              "       [ 31, 736,  56,  83,  37,  40,   0,  11,   1,   5],\n",
              "       [ 50,  79, 566,  15,  72,  57,   2, 112,   1,  46],\n",
              "       [ 19,  27,  29, 861,   4,  21,   0,  38,   0,   1],\n",
              "       [ 72,  14,  41,   0, 553,  15,   9,  65,  21, 210],\n",
              "       [ 55,  44,  77,   6,  38, 593,  20, 133,  11,  23],\n",
              "       [ 38,   0,   0,   0,   8,   1, 334,  10, 552,  57],\n",
              "       [ 37,   8, 105,  71,  55, 123,  26, 521,   5,  49],\n",
              "       [ 43,   0,   1,   0,  15,   1, 539,   5, 289, 107],\n",
              "       [132,   4,  10,   0,  74,   2,  38,  25,  64, 651]])"
            ]
          },
          "metadata": {},
          "execution_count": 46
        }
      ]
    },
    {
      "cell_type": "code",
      "metadata": {
        "colab": {
          "base_uri": "https://localhost:8080/"
        },
        "id": "2GMZBIEOkRwR",
        "outputId": "048c32cc-6f8a-4e8e-a6d3-e0a93171dd4f"
      },
      "source": [
        "print(\"Accuracy:\",metrics.accuracy_score(y_test, rf_probs))\n",
        "print(\"Precision:\",metrics.precision_score(y_test, rf_probs, average='micro'))\n",
        "print(\"Recall:\",metrics.recall_score(y_test, rf_probs, average='micro'))\n",
        "print('F1 Score: ',f1_score(y_test, rf_probs, average= \"weighted\"))"
      ],
      "execution_count": null,
      "outputs": [
        {
          "output_type": "stream",
          "name": "stdout",
          "text": [
            "Accuracy: 0.5502\n",
            "Precision: 0.5502\n",
            "Recall: 0.5502\n",
            "F1 Score:  0.5507466353418434\n"
          ]
        }
      ]
    },
    {
      "cell_type": "markdown",
      "metadata": {
        "id": "NGqkcliuPafh"
      },
      "source": [
        "XGBoost\n"
      ]
    },
    {
      "cell_type": "code",
      "metadata": {
        "colab": {
          "base_uri": "https://localhost:8080/"
        },
        "id": "CkF7JZWMlcO_",
        "outputId": "65894fe3-8ae1-4d43-953b-14059170c485"
      },
      "source": [
        "# Train model with optimal parameters\n",
        "xgb = XGBClassifier(max_depth=5, learning_rate=0.1, objective='multi:softprob', n_estimators=500, sub_sample = 0.8, num_class = len(y))\n",
        "xgb.fit(X_train, y_train)\n",
        "# Probabilities of each genre\n",
        "xgb_probs = xgb.predict(X_test) "
      ],
      "execution_count": null,
      "outputs": [
        {
          "output_type": "stream",
          "name": "stderr",
          "text": [
            "/usr/local/lib/python3.7/dist-packages/sklearn/preprocessing/_label.py:235: DataConversionWarning: A column-vector y was passed when a 1d array was expected. Please change the shape of y to (n_samples, ), for example using ravel().\n",
            "  y = column_or_1d(y, warn=True)\n",
            "/usr/local/lib/python3.7/dist-packages/sklearn/preprocessing/_label.py:268: DataConversionWarning: A column-vector y was passed when a 1d array was expected. Please change the shape of y to (n_samples, ), for example using ravel().\n",
            "  y = column_or_1d(y, warn=True)\n"
          ]
        }
      ]
    },
    {
      "cell_type": "code",
      "metadata": {
        "colab": {
          "base_uri": "https://localhost:8080/"
        },
        "id": "KEXFYTDup5o9",
        "outputId": "15c82878-f26a-4136-f43e-708a7546c185"
      },
      "source": [
        "xgb_matrix = metrics.confusion_matrix(y_test, xgb_probs)\n",
        "xgb_matrix"
      ],
      "execution_count": null,
      "outputs": [
        {
          "output_type": "execute_result",
          "data": {
            "text/plain": [
              "array([[420,   8,  15,   6, 123,  56,  74,  57,  58, 183],\n",
              "       [ 25, 763,  66,  59,  37,  30,   1,  14,   0,   5],\n",
              "       [ 56,  64, 579,  13,  72,  54,   3, 115,   1,  43],\n",
              "       [ 18,  33,  25, 855,   7,  20,   0,  42,   0,   0],\n",
              "       [ 75,  12,  50,   2, 579,  15,  19,  52,  15, 181],\n",
              "       [ 48,  33,  70,   9,  32, 635,  19, 119,  13,  22],\n",
              "       [ 23,   1,   0,   0,  10,   1, 375,  10, 527,  53],\n",
              "       [ 50,   5,  89,  68,  54, 118,  26, 539,   5,  46],\n",
              "       [ 43,   0,   2,   0,  17,   5, 452,   3, 371, 107],\n",
              "       [103,   1,  11,   1,  65,   7,  45,  25,  69, 673]])"
            ]
          },
          "metadata": {},
          "execution_count": 49
        }
      ]
    },
    {
      "cell_type": "code",
      "metadata": {
        "colab": {
          "base_uri": "https://localhost:8080/"
        },
        "id": "OW31Xziuqicz",
        "outputId": "f901f3d8-aa1d-4308-b2d7-eb154ad42343"
      },
      "source": [
        "print(\"Accuracy:\",metrics.accuracy_score(y_test, xgb_probs))\n",
        "print(\"Precision:\",metrics.precision_score(y_test, xgb_probs, average='weighted'))\n",
        "print(\"Recall:\",metrics.recall_score(y_test, xgb_probs, average='weighted'))\n",
        "print('F1 Score: ', f1_score(y_test, xgb_probs, average= \"weighted\"))"
      ],
      "execution_count": null,
      "outputs": [
        {
          "output_type": "stream",
          "name": "stdout",
          "text": [
            "Accuracy: 0.5789\n",
            "Precision: 0.584066164592945\n",
            "Recall: 0.5789\n",
            "F1 Score:  0.5797576161104593\n"
          ]
        }
      ]
    },
    {
      "cell_type": "code",
      "metadata": {
        "colab": {
          "base_uri": "https://localhost:8080/",
          "height": 318
        },
        "id": "6hyiXOMfrbrK",
        "outputId": "77559566-2236-4eae-9a93-7f650f297148"
      },
      "source": [
        "#Visalusing the F5 label encoded 'Electronic' music genre category\n",
        "plot_importance(xgb)"
      ],
      "execution_count": null,
      "outputs": [
        {
          "output_type": "execute_result",
          "data": {
            "text/plain": [
              "<matplotlib.axes._subplots.AxesSubplot at 0x7fd9c6cc2f90>"
            ]
          },
          "metadata": {},
          "execution_count": 51
        },
        {
          "output_type": "display_data",
          "data": {
            "image/png": "[encoded data removed]",
            "text/plain": [
              "<Figure size 432x288 with 1 Axes>"
            ]
          },
          "metadata": {
            "needs_background": "light"
          }
        }
      ]
    },
    {
      "cell_type": "code",
      "metadata": {
        "colab": {
          "base_uri": "https://localhost:8080/"
        },
        "id": "zZqoOQscwCKz",
        "outputId": "e3c9fca3-9992-4270-da84-5a9e49e03536"
      },
      "source": [
        "y['genre_Category'].value_counts()"
      ],
      "execution_count": null,
      "outputs": [
        {
          "output_type": "execute_result",
          "data": {
            "text/plain": [
              "9    5000\n",
              "8    5000\n",
              "7    5000\n",
              "6    5000\n",
              "5    5000\n",
              "4    5000\n",
              "3    5000\n",
              "2    5000\n",
              "1    5000\n",
              "0    5000\n",
              "Name: genre_Category, dtype: int64"
            ]
          },
          "metadata": {},
          "execution_count": 52
        }
      ]
    },
    {
      "cell_type": "markdown",
      "metadata": {
        "id": "TYuAorQ1aVqd"
      },
      "source": [
        "KNearestNeighbors"
      ]
    },
    {
      "cell_type": "code",
      "metadata": {
        "colab": {
          "base_uri": "https://localhost:8080/"
        },
        "id": "HvNHJ87G9kv2",
        "outputId": "337ede22-6123-4c71-ceb5-f265dcc189b0"
      },
      "source": [
        "from sklearn.neighbors import KNeighborsClassifier\n",
        "knn = KNeighborsClassifier(n_neighbors=5)\n",
        "knn.fit(X_train, y_train)\n",
        "knn_probs = knn.predict(X_test) "
      ],
      "execution_count": null,
      "outputs": [
        {
          "output_type": "stream",
          "name": "stderr",
          "text": [
            "/usr/local/lib/python3.7/dist-packages/ipykernel_launcher.py:3: DataConversionWarning: A column-vector y was passed when a 1d array was expected. Please change the shape of y to (n_samples, ), for example using ravel().\n",
            "  This is separate from the ipykernel package so we can avoid doing imports until\n"
          ]
        }
      ]
    },
    {
      "cell_type": "code",
      "metadata": {
        "colab": {
          "base_uri": "https://localhost:8080/"
        },
        "id": "cwQE8r-_-sXX",
        "outputId": "3ec656fd-2675-44bf-aeba-53fe061ab784"
      },
      "source": [
        "knn_matrix = metrics.confusion_matrix(y_test, knn_probs)\n",
        "knn_matrix"
      ],
      "execution_count": null,
      "outputs": [
        {
          "output_type": "execute_result",
          "data": {
            "text/plain": [
              "array([[404,  20,  38,   9, 174,  38,  90,  45,  58, 124],\n",
              "       [ 48, 701,  70,  81,  37,  39,   0,  20,   2,   2],\n",
              "       [ 79, 121, 480,  26, 130,  41,   5,  88,   3,  27],\n",
              "       [ 22,  47,  25, 845,   8,  15,   0,  38,   0,   0],\n",
              "       [168,  30,  86,   7, 470,  17,  27,  46,  24, 125],\n",
              "       [ 94,  93,  69,  17,  74, 487,  38,  93,  20,  15],\n",
              "       [ 72,   3,   3,   0,  28,   9, 442,   7, 382,  54],\n",
              "       [ 80,  34, 127,  84, 100, 104,  35, 396,  10,  30],\n",
              "       [104,   0,   4,   0,  34,  13, 466,   7, 289,  83],\n",
              "       [241,   1,  32,   1, 147,  12,  59,  41,  69, 397]])"
            ]
          },
          "metadata": {},
          "execution_count": 54
        }
      ]
    },
    {
      "cell_type": "code",
      "metadata": {
        "colab": {
          "base_uri": "https://localhost:8080/"
        },
        "id": "9xjNPRA--xt0",
        "outputId": "c9c212a9-a88a-4820-ebcd-fedd25e8165b"
      },
      "source": [
        "print(\"Accuracy:\",metrics.accuracy_score(y_test, knn_probs))\n",
        "print(\"Precision:\",metrics.precision_score(y_test, knn_probs, average='micro'))\n",
        "print(\"Recall:\",metrics.recall_score(y_test, knn_probs, average='micro'))\n",
        "print('F1 Score: ', f1_score(y_test, knn_probs, average= \"micro\"))"
      ],
      "execution_count": null,
      "outputs": [
        {
          "output_type": "stream",
          "name": "stdout",
          "text": [
            "Accuracy: 0.4911\n",
            "Precision: 0.4911\n",
            "Recall: 0.4911\n",
            "F1 Score:  0.4911\n"
          ]
        }
      ]
    },
    {
      "cell_type": "code",
      "metadata": {
        "colab": {
          "base_uri": "https://localhost:8080/"
        },
        "id": "4Ls_lBqa1R52",
        "outputId": "f4140ed0-a431-4739-8593-2387d5f79b7c"
      },
      "source": [
        "#kappa score integrates measurements of chance and class imbalance\n",
        "from sklearn.metrics import cohen_kappa_score\n",
        "cohen_kappa_score(y_test, clf_pred)\n",
        "#The score here is moderate-low "
      ],
      "execution_count": null,
      "outputs": [
        {
          "output_type": "execute_result",
          "data": {
            "text/plain": [
              "0.5256666666666667"
            ]
          },
          "metadata": {},
          "execution_count": 56
        }
      ]
    },
    {
      "cell_type": "markdown",
      "metadata": {
        "id": "B4CT27oQxQ5c"
      },
      "source": [
        "The best performing model was the SVM with performace of an approx. 57%. The operated dataset showed less evidence of being imbalanced. The probability of music genre being correctly predicted according to our model is litle over 50 percent. Although these are not great odds, one can optimise further by selecting lesser features through PCA(dimensionality reduction) high correlation, normalisation, shuffling the average parameter between micro, macro, weighted to balance weights."
      ]
    },
    {
      "cell_type": "code",
      "metadata": {
        "id": "amQYnzJQJ_Ns"
      },
      "source": [
        ""
      ],
      "execution_count": null,
      "outputs": []
    }
  ]
}