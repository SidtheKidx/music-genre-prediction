{
  "nbformat": 4,
  "nbformat_minor": 0,
  "metadata": {
    "colab": {
      "name": "Thrasio_music_genre_prediction.ipynb",
      "provenance": [],
      "collapsed_sections": [],
      "authorship_tag": "ABX9TyNnDSMd9iA9McapR/ouKQjC",
      "include_colab_link": true
    },
    "kernelspec": {
      "name": "python3",
      "display_name": "Python 3"
    },
    "language_info": {
      "name": "python"
    }
  },
  "cells": [
    {
      "cell_type": "markdown",
      "metadata": {
        "id": "view-in-github",
        "colab_type": "text"
      },
      "source": [
        "<a href=\"https://colab.research.google.com/github/SidtheKidx/music-genre-prediction/blob/main/Thrasio_music_genre_prediction.ipynb\" target=\"_parent\"><img src=\"https://colab.research.google.com/assets/colab-badge.svg\" alt=\"Open In Colab\"/></a>"
      ]
    },
    {
      "cell_type": "markdown",
      "metadata": {
        "id": "J0-ioUwMAE4i"
      },
      "source": [
        "## Music genre prediction - classification"
      ]
    },
    {
      "cell_type": "code",
      "metadata": {
        "id": "_oBm07T_a34U"
      },
      "source": [
        "import numpy as np\n",
        "import pandas as pd\n",
        "import matplotlib.pyplot as plt\n",
        "import seaborn as sns\n",
        "sns.set()"
      ],
      "execution_count": 1,
      "outputs": []
    },
    {
      "cell_type": "code",
      "metadata": {
        "id": "2JM5XHEAr6Lm"
      },
      "source": [
        "music = pd.read_csv('https://raw.githubusercontent.com/SidtheKidx/music-genre-prediction/main/music_genre.csv')"
      ],
      "execution_count": 2,
      "outputs": []
    },
    {
      "cell_type": "code",
      "metadata": {
        "colab": {
          "base_uri": "https://localhost:8080/",
          "height": 464
        },
        "id": "_Ah74n0Pwo8W",
        "outputId": "8ca42849-16c2-4446-f5f2-c12c79854721"
      },
      "source": [
        "music.head(10)"
      ],
      "execution_count": 3,
      "outputs": [
        {
          "output_type": "execute_result",
          "data": {
            "text/html": [
              "<div>\n",
              "<style scoped>\n",
              "    .dataframe tbody tr th:only-of-type {\n",
              "        vertical-align: middle;\n",
              "    }\n",
              "\n",
              "    .dataframe tbody tr th {\n",
              "        vertical-align: top;\n",
              "    }\n",
              "\n",
              "    .dataframe thead th {\n",
              "        text-align: right;\n",
              "    }\n",
              "</style>\n",
              "<table border=\"1\" class=\"dataframe\">\n",
              "  <thead>\n",
              "    <tr style=\"text-align: right;\">\n",
              "      <th></th>\n",
              "      <th>instance_id</th>\n",
              "      <th>artist_name</th>\n",
              "      <th>track_name</th>\n",
              "      <th>popularity</th>\n",
              "      <th>acousticness</th>\n",
              "      <th>danceability</th>\n",
              "      <th>duration_ms</th>\n",
              "      <th>energy</th>\n",
              "      <th>instrumentalness</th>\n",
              "      <th>key</th>\n",
              "      <th>liveness</th>\n",
              "      <th>loudness</th>\n",
              "      <th>mode</th>\n",
              "      <th>speechiness</th>\n",
              "      <th>tempo</th>\n",
              "      <th>obtained_date</th>\n",
              "      <th>valence</th>\n",
              "      <th>music_genre</th>\n",
              "    </tr>\n",
              "  </thead>\n",
              "  <tbody>\n",
              "    <tr>\n",
              "      <th>0</th>\n",
              "      <td>32894.0</td>\n",
              "      <td>Röyksopp</td>\n",
              "      <td>Röyksopp's Night Out</td>\n",
              "      <td>27.0</td>\n",
              "      <td>0.00468</td>\n",
              "      <td>0.652</td>\n",
              "      <td>-1.0</td>\n",
              "      <td>0.941</td>\n",
              "      <td>0.792000</td>\n",
              "      <td>A#</td>\n",
              "      <td>0.1150</td>\n",
              "      <td>-5.201</td>\n",
              "      <td>Minor</td>\n",
              "      <td>0.0748</td>\n",
              "      <td>100.889</td>\n",
              "      <td>4-Apr</td>\n",
              "      <td>0.759</td>\n",
              "      <td>Electronic</td>\n",
              "    </tr>\n",
              "    <tr>\n",
              "      <th>1</th>\n",
              "      <td>46652.0</td>\n",
              "      <td>Thievery Corporation</td>\n",
              "      <td>The Shining Path</td>\n",
              "      <td>31.0</td>\n",
              "      <td>0.01270</td>\n",
              "      <td>0.622</td>\n",
              "      <td>218293.0</td>\n",
              "      <td>0.890</td>\n",
              "      <td>0.950000</td>\n",
              "      <td>D</td>\n",
              "      <td>0.1240</td>\n",
              "      <td>-7.043</td>\n",
              "      <td>Minor</td>\n",
              "      <td>0.0300</td>\n",
              "      <td>115.00200000000001</td>\n",
              "      <td>4-Apr</td>\n",
              "      <td>0.531</td>\n",
              "      <td>Electronic</td>\n",
              "    </tr>\n",
              "    <tr>\n",
              "      <th>2</th>\n",
              "      <td>30097.0</td>\n",
              "      <td>Dillon Francis</td>\n",
              "      <td>Hurricane</td>\n",
              "      <td>28.0</td>\n",
              "      <td>0.00306</td>\n",
              "      <td>0.620</td>\n",
              "      <td>215613.0</td>\n",
              "      <td>0.755</td>\n",
              "      <td>0.011800</td>\n",
              "      <td>G#</td>\n",
              "      <td>0.5340</td>\n",
              "      <td>-4.617</td>\n",
              "      <td>Major</td>\n",
              "      <td>0.0345</td>\n",
              "      <td>127.994</td>\n",
              "      <td>4-Apr</td>\n",
              "      <td>0.333</td>\n",
              "      <td>Electronic</td>\n",
              "    </tr>\n",
              "    <tr>\n",
              "      <th>3</th>\n",
              "      <td>62177.0</td>\n",
              "      <td>Dubloadz</td>\n",
              "      <td>Nitro</td>\n",
              "      <td>34.0</td>\n",
              "      <td>0.02540</td>\n",
              "      <td>0.774</td>\n",
              "      <td>166875.0</td>\n",
              "      <td>0.700</td>\n",
              "      <td>0.002530</td>\n",
              "      <td>C#</td>\n",
              "      <td>0.1570</td>\n",
              "      <td>-4.498</td>\n",
              "      <td>Major</td>\n",
              "      <td>0.2390</td>\n",
              "      <td>128.014</td>\n",
              "      <td>4-Apr</td>\n",
              "      <td>0.270</td>\n",
              "      <td>Electronic</td>\n",
              "    </tr>\n",
              "    <tr>\n",
              "      <th>4</th>\n",
              "      <td>24907.0</td>\n",
              "      <td>What So Not</td>\n",
              "      <td>Divide &amp; Conquer</td>\n",
              "      <td>32.0</td>\n",
              "      <td>0.00465</td>\n",
              "      <td>0.638</td>\n",
              "      <td>222369.0</td>\n",
              "      <td>0.587</td>\n",
              "      <td>0.909000</td>\n",
              "      <td>F#</td>\n",
              "      <td>0.1570</td>\n",
              "      <td>-6.266</td>\n",
              "      <td>Major</td>\n",
              "      <td>0.0413</td>\n",
              "      <td>145.036</td>\n",
              "      <td>4-Apr</td>\n",
              "      <td>0.323</td>\n",
              "      <td>Electronic</td>\n",
              "    </tr>\n",
              "    <tr>\n",
              "      <th>5</th>\n",
              "      <td>89064.0</td>\n",
              "      <td>Axel Boman</td>\n",
              "      <td>Hello</td>\n",
              "      <td>47.0</td>\n",
              "      <td>0.00523</td>\n",
              "      <td>0.755</td>\n",
              "      <td>519468.0</td>\n",
              "      <td>0.731</td>\n",
              "      <td>0.854000</td>\n",
              "      <td>D</td>\n",
              "      <td>0.2160</td>\n",
              "      <td>-10.517</td>\n",
              "      <td>Minor</td>\n",
              "      <td>0.0412</td>\n",
              "      <td>?</td>\n",
              "      <td>4-Apr</td>\n",
              "      <td>0.614</td>\n",
              "      <td>Electronic</td>\n",
              "    </tr>\n",
              "    <tr>\n",
              "      <th>6</th>\n",
              "      <td>43760.0</td>\n",
              "      <td>Jordan Comolli</td>\n",
              "      <td>Clash</td>\n",
              "      <td>46.0</td>\n",
              "      <td>0.02890</td>\n",
              "      <td>0.572</td>\n",
              "      <td>214408.0</td>\n",
              "      <td>0.803</td>\n",
              "      <td>0.000008</td>\n",
              "      <td>B</td>\n",
              "      <td>0.1060</td>\n",
              "      <td>-4.294</td>\n",
              "      <td>Major</td>\n",
              "      <td>0.3510</td>\n",
              "      <td>149.995</td>\n",
              "      <td>4-Apr</td>\n",
              "      <td>0.230</td>\n",
              "      <td>Electronic</td>\n",
              "    </tr>\n",
              "    <tr>\n",
              "      <th>7</th>\n",
              "      <td>30738.0</td>\n",
              "      <td>Hraach</td>\n",
              "      <td>Delirio</td>\n",
              "      <td>43.0</td>\n",
              "      <td>0.02970</td>\n",
              "      <td>0.809</td>\n",
              "      <td>416132.0</td>\n",
              "      <td>0.706</td>\n",
              "      <td>0.903000</td>\n",
              "      <td>G</td>\n",
              "      <td>0.0635</td>\n",
              "      <td>-9.339</td>\n",
              "      <td>Minor</td>\n",
              "      <td>0.0484</td>\n",
              "      <td>120.008</td>\n",
              "      <td>4-Apr</td>\n",
              "      <td>0.761</td>\n",
              "      <td>Electronic</td>\n",
              "    </tr>\n",
              "    <tr>\n",
              "      <th>8</th>\n",
              "      <td>84950.0</td>\n",
              "      <td>Kayzo</td>\n",
              "      <td>NEVER ALONE</td>\n",
              "      <td>39.0</td>\n",
              "      <td>0.00299</td>\n",
              "      <td>0.509</td>\n",
              "      <td>292800.0</td>\n",
              "      <td>0.921</td>\n",
              "      <td>0.000276</td>\n",
              "      <td>F</td>\n",
              "      <td>0.1780</td>\n",
              "      <td>-3.175</td>\n",
              "      <td>Minor</td>\n",
              "      <td>0.2680</td>\n",
              "      <td>149.94799999999998</td>\n",
              "      <td>4-Apr</td>\n",
              "      <td>0.273</td>\n",
              "      <td>Electronic</td>\n",
              "    </tr>\n",
              "    <tr>\n",
              "      <th>9</th>\n",
              "      <td>56950.0</td>\n",
              "      <td>Shlump</td>\n",
              "      <td>Lazer Beam</td>\n",
              "      <td>22.0</td>\n",
              "      <td>0.00934</td>\n",
              "      <td>0.578</td>\n",
              "      <td>204800.0</td>\n",
              "      <td>0.731</td>\n",
              "      <td>0.011200</td>\n",
              "      <td>A</td>\n",
              "      <td>0.1110</td>\n",
              "      <td>-7.091</td>\n",
              "      <td>Minor</td>\n",
              "      <td>0.1730</td>\n",
              "      <td>139.933</td>\n",
              "      <td>4-Apr</td>\n",
              "      <td>0.203</td>\n",
              "      <td>Electronic</td>\n",
              "    </tr>\n",
              "  </tbody>\n",
              "</table>\n",
              "</div>"
            ],
            "text/plain": [
              "   instance_id           artist_name  ... valence  music_genre\n",
              "0      32894.0              Röyksopp  ...   0.759   Electronic\n",
              "1      46652.0  Thievery Corporation  ...   0.531   Electronic\n",
              "2      30097.0        Dillon Francis  ...   0.333   Electronic\n",
              "3      62177.0              Dubloadz  ...   0.270   Electronic\n",
              "4      24907.0           What So Not  ...   0.323   Electronic\n",
              "5      89064.0            Axel Boman  ...   0.614   Electronic\n",
              "6      43760.0        Jordan Comolli  ...   0.230   Electronic\n",
              "7      30738.0                Hraach  ...   0.761   Electronic\n",
              "8      84950.0                 Kayzo  ...   0.273   Electronic\n",
              "9      56950.0                Shlump  ...   0.203   Electronic\n",
              "\n",
              "[10 rows x 18 columns]"
            ]
          },
          "metadata": {},
          "execution_count": 3
        }
      ]
    },
    {
      "cell_type": "markdown",
      "metadata": {
        "id": "ACj3qS91AODg"
      },
      "source": [
        "### EDA and feature engineering"
      ]
    },
    {
      "cell_type": "code",
      "metadata": {
        "colab": {
          "base_uri": "https://localhost:8080/"
        },
        "id": "gCmFyfI-wroS",
        "outputId": "eff57647-e2da-4a7b-f57d-5abb6d103993"
      },
      "source": [
        "music.info()"
      ],
      "execution_count": 4,
      "outputs": [
        {
          "output_type": "stream",
          "name": "stdout",
          "text": [
            "<class 'pandas.core.frame.DataFrame'>\n",
            "RangeIndex: 50005 entries, 0 to 50004\n",
            "Data columns (total 18 columns):\n",
            " #   Column            Non-Null Count  Dtype  \n",
            "---  ------            --------------  -----  \n",
            " 0   instance_id       50000 non-null  float64\n",
            " 1   artist_name       50000 non-null  object \n",
            " 2   track_name        50000 non-null  object \n",
            " 3   popularity        50000 non-null  float64\n",
            " 4   acousticness      50000 non-null  float64\n",
            " 5   danceability      50000 non-null  float64\n",
            " 6   duration_ms       50000 non-null  float64\n",
            " 7   energy            50000 non-null  float64\n",
            " 8   instrumentalness  50000 non-null  float64\n",
            " 9   key               50000 non-null  object \n",
            " 10  liveness          50000 non-null  float64\n",
            " 11  loudness          50000 non-null  float64\n",
            " 12  mode              50000 non-null  object \n",
            " 13  speechiness       50000 non-null  float64\n",
            " 14  tempo             50000 non-null  object \n",
            " 15  obtained_date     50000 non-null  object \n",
            " 16  valence           50000 non-null  float64\n",
            " 17  music_genre       50000 non-null  object \n",
            "dtypes: float64(11), object(7)\n",
            "memory usage: 6.9+ MB\n"
          ]
        }
      ]
    },
    {
      "cell_type": "code",
      "metadata": {
        "colab": {
          "base_uri": "https://localhost:8080/",
          "height": 297
        },
        "id": "DjL_HUyu8Esi",
        "outputId": "41a22ed2-8baa-431f-e930-59c413cf482c"
      },
      "source": [
        "music.describe()"
      ],
      "execution_count": 5,
      "outputs": [
        {
          "output_type": "execute_result",
          "data": {
            "text/html": [
              "<div>\n",
              "<style scoped>\n",
              "    .dataframe tbody tr th:only-of-type {\n",
              "        vertical-align: middle;\n",
              "    }\n",
              "\n",
              "    .dataframe tbody tr th {\n",
              "        vertical-align: top;\n",
              "    }\n",
              "\n",
              "    .dataframe thead th {\n",
              "        text-align: right;\n",
              "    }\n",
              "</style>\n",
              "<table border=\"1\" class=\"dataframe\">\n",
              "  <thead>\n",
              "    <tr style=\"text-align: right;\">\n",
              "      <th></th>\n",
              "      <th>instance_id</th>\n",
              "      <th>popularity</th>\n",
              "      <th>acousticness</th>\n",
              "      <th>danceability</th>\n",
              "      <th>duration_ms</th>\n",
              "      <th>energy</th>\n",
              "      <th>instrumentalness</th>\n",
              "      <th>liveness</th>\n",
              "      <th>loudness</th>\n",
              "      <th>speechiness</th>\n",
              "      <th>valence</th>\n",
              "    </tr>\n",
              "  </thead>\n",
              "  <tbody>\n",
              "    <tr>\n",
              "      <th>count</th>\n",
              "      <td>50000.000000</td>\n",
              "      <td>50000.000000</td>\n",
              "      <td>50000.000000</td>\n",
              "      <td>50000.000000</td>\n",
              "      <td>5.000000e+04</td>\n",
              "      <td>50000.000000</td>\n",
              "      <td>50000.000000</td>\n",
              "      <td>50000.000000</td>\n",
              "      <td>50000.000000</td>\n",
              "      <td>50000.000000</td>\n",
              "      <td>50000.000000</td>\n",
              "    </tr>\n",
              "    <tr>\n",
              "      <th>mean</th>\n",
              "      <td>55888.396360</td>\n",
              "      <td>44.220420</td>\n",
              "      <td>0.306383</td>\n",
              "      <td>0.558241</td>\n",
              "      <td>2.212526e+05</td>\n",
              "      <td>0.599755</td>\n",
              "      <td>0.181601</td>\n",
              "      <td>0.193896</td>\n",
              "      <td>-9.133761</td>\n",
              "      <td>0.093586</td>\n",
              "      <td>0.456264</td>\n",
              "    </tr>\n",
              "    <tr>\n",
              "      <th>std</th>\n",
              "      <td>20725.256253</td>\n",
              "      <td>15.542008</td>\n",
              "      <td>0.341340</td>\n",
              "      <td>0.178632</td>\n",
              "      <td>1.286720e+05</td>\n",
              "      <td>0.264559</td>\n",
              "      <td>0.325409</td>\n",
              "      <td>0.161637</td>\n",
              "      <td>6.162990</td>\n",
              "      <td>0.101373</td>\n",
              "      <td>0.247119</td>\n",
              "    </tr>\n",
              "    <tr>\n",
              "      <th>min</th>\n",
              "      <td>20002.000000</td>\n",
              "      <td>0.000000</td>\n",
              "      <td>0.000000</td>\n",
              "      <td>0.059600</td>\n",
              "      <td>-1.000000e+00</td>\n",
              "      <td>0.000792</td>\n",
              "      <td>0.000000</td>\n",
              "      <td>0.009670</td>\n",
              "      <td>-47.046000</td>\n",
              "      <td>0.022300</td>\n",
              "      <td>0.000000</td>\n",
              "    </tr>\n",
              "    <tr>\n",
              "      <th>25%</th>\n",
              "      <td>37973.500000</td>\n",
              "      <td>34.000000</td>\n",
              "      <td>0.020000</td>\n",
              "      <td>0.442000</td>\n",
              "      <td>1.748000e+05</td>\n",
              "      <td>0.433000</td>\n",
              "      <td>0.000000</td>\n",
              "      <td>0.096900</td>\n",
              "      <td>-10.860000</td>\n",
              "      <td>0.036100</td>\n",
              "      <td>0.257000</td>\n",
              "    </tr>\n",
              "    <tr>\n",
              "      <th>50%</th>\n",
              "      <td>55913.500000</td>\n",
              "      <td>45.000000</td>\n",
              "      <td>0.144000</td>\n",
              "      <td>0.568000</td>\n",
              "      <td>2.192810e+05</td>\n",
              "      <td>0.643000</td>\n",
              "      <td>0.000158</td>\n",
              "      <td>0.126000</td>\n",
              "      <td>-7.276500</td>\n",
              "      <td>0.048900</td>\n",
              "      <td>0.448000</td>\n",
              "    </tr>\n",
              "    <tr>\n",
              "      <th>75%</th>\n",
              "      <td>73863.250000</td>\n",
              "      <td>56.000000</td>\n",
              "      <td>0.552000</td>\n",
              "      <td>0.687000</td>\n",
              "      <td>2.686122e+05</td>\n",
              "      <td>0.815000</td>\n",
              "      <td>0.155000</td>\n",
              "      <td>0.244000</td>\n",
              "      <td>-5.173000</td>\n",
              "      <td>0.098525</td>\n",
              "      <td>0.648000</td>\n",
              "    </tr>\n",
              "    <tr>\n",
              "      <th>max</th>\n",
              "      <td>91759.000000</td>\n",
              "      <td>99.000000</td>\n",
              "      <td>0.996000</td>\n",
              "      <td>0.986000</td>\n",
              "      <td>4.830606e+06</td>\n",
              "      <td>0.999000</td>\n",
              "      <td>0.996000</td>\n",
              "      <td>1.000000</td>\n",
              "      <td>3.744000</td>\n",
              "      <td>0.942000</td>\n",
              "      <td>0.992000</td>\n",
              "    </tr>\n",
              "  </tbody>\n",
              "</table>\n",
              "</div>"
            ],
            "text/plain": [
              "        instance_id    popularity  ...   speechiness       valence\n",
              "count  50000.000000  50000.000000  ...  50000.000000  50000.000000\n",
              "mean   55888.396360     44.220420  ...      0.093586      0.456264\n",
              "std    20725.256253     15.542008  ...      0.101373      0.247119\n",
              "min    20002.000000      0.000000  ...      0.022300      0.000000\n",
              "25%    37973.500000     34.000000  ...      0.036100      0.257000\n",
              "50%    55913.500000     45.000000  ...      0.048900      0.448000\n",
              "75%    73863.250000     56.000000  ...      0.098525      0.648000\n",
              "max    91759.000000     99.000000  ...      0.942000      0.992000\n",
              "\n",
              "[8 rows x 11 columns]"
            ]
          },
          "metadata": {},
          "execution_count": 5
        }
      ]
    },
    {
      "cell_type": "code",
      "metadata": {
        "colab": {
          "base_uri": "https://localhost:8080/"
        },
        "id": "zREZ-dGj8KhR",
        "outputId": "760556dc-6063-4e56-d38f-e19010de9fb1"
      },
      "source": [
        "music.shape"
      ],
      "execution_count": 6,
      "outputs": [
        {
          "output_type": "execute_result",
          "data": {
            "text/plain": [
              "(50005, 18)"
            ]
          },
          "metadata": {},
          "execution_count": 6
        }
      ]
    },
    {
      "cell_type": "code",
      "metadata": {
        "colab": {
          "base_uri": "https://localhost:8080/"
        },
        "id": "I3el4jOAAYYQ",
        "outputId": "3f39865f-5512-4b40-cb63-ee73dd59b5e1"
      },
      "source": [
        "music['music_genre'].unique()"
      ],
      "execution_count": 7,
      "outputs": [
        {
          "output_type": "execute_result",
          "data": {
            "text/plain": [
              "array(['Electronic', 'Anime', nan, 'Jazz', 'Alternative', 'Country',\n",
              "       'Rap', 'Blues', 'Rock', 'Classical', 'Hip-Hop'], dtype=object)"
            ]
          },
          "metadata": {},
          "execution_count": 7
        }
      ]
    },
    {
      "cell_type": "code",
      "metadata": {
        "colab": {
          "base_uri": "https://localhost:8080/"
        },
        "id": "WXScuJtqAbR9",
        "outputId": "e033b0d9-8202-4e1d-e3d2-3375620d763f"
      },
      "source": [
        "music['music_genre'].value_counts()"
      ],
      "execution_count": 8,
      "outputs": [
        {
          "output_type": "execute_result",
          "data": {
            "text/plain": [
              "Country        5000\n",
              "Electronic     5000\n",
              "Classical      5000\n",
              "Anime          5000\n",
              "Jazz           5000\n",
              "Hip-Hop        5000\n",
              "Rap            5000\n",
              "Blues          5000\n",
              "Rock           5000\n",
              "Alternative    5000\n",
              "Name: music_genre, dtype: int64"
            ]
          },
          "metadata": {},
          "execution_count": 8
        }
      ]
    },
    {
      "cell_type": "code",
      "metadata": {
        "id": "J4OHDjMGA1um"
      },
      "source": [
        "#Dropping values that are NANs(i.e. 5 values in 'music genre')\n",
        "music = music[music['music_genre'].notna()]"
      ],
      "execution_count": 14,
      "outputs": []
    },
    {
      "cell_type": "code",
      "metadata": {
        "colab": {
          "base_uri": "https://localhost:8080/"
        },
        "id": "-zHU1znoBtWv",
        "outputId": "e1b7d6c1-9457-45f7-9053-0dd9b1c7821c"
      },
      "source": [
        "music['music_genre'].unique()"
      ],
      "execution_count": 15,
      "outputs": [
        {
          "output_type": "execute_result",
          "data": {
            "text/plain": [
              "array(['Electronic', 'Anime', 'Jazz', 'Alternative', 'Country', 'Rap',\n",
              "       'Blues', 'Rock', 'Classical', 'Hip-Hop'], dtype=object)"
            ]
          },
          "metadata": {},
          "execution_count": 15
        }
      ]
    },
    {
      "cell_type": "code",
      "metadata": {
        "colab": {
          "base_uri": "https://localhost:8080/"
        },
        "id": "R5haMLTIO6r9",
        "outputId": "46dd89c0-54f2-487e-a632-ccd47c7f95a4"
      },
      "source": [
        "music.dtypes"
      ],
      "execution_count": 22,
      "outputs": [
        {
          "output_type": "execute_result",
          "data": {
            "text/plain": [
              "instance_id         float64\n",
              "artist_name          object\n",
              "track_name           object\n",
              "popularity          float64\n",
              "acousticness        float64\n",
              "danceability        float64\n",
              "duration_ms         float64\n",
              "energy              float64\n",
              "instrumentalness    float64\n",
              "key                  object\n",
              "liveness            float64\n",
              "loudness            float64\n",
              "mode                 object\n",
              "speechiness         float64\n",
              "tempo                object\n",
              "obtained_date        object\n",
              "valence             float64\n",
              "music_genre          object\n",
              "dtype: object"
            ]
          },
          "metadata": {},
          "execution_count": 22
        }
      ]
    },
    {
      "cell_type": "code",
      "metadata": {
        "colab": {
          "base_uri": "https://localhost:8080/"
        },
        "id": "gT4C8L6jBxB5",
        "outputId": "bcde3bf6-d8f0-4ebf-8a20-46e7f7a9e1b9"
      },
      "source": [
        "music.shape"
      ],
      "execution_count": 16,
      "outputs": [
        {
          "output_type": "execute_result",
          "data": {
            "text/plain": [
              "(50000, 18)"
            ]
          },
          "metadata": {},
          "execution_count": 16
        }
      ]
    },
    {
      "cell_type": "code",
      "metadata": {
        "colab": {
          "base_uri": "https://localhost:8080/",
          "height": 477
        },
        "id": "VGbfbPNM0tQh",
        "outputId": "a9d3ab66-4e90-4c01-a169-efe0abf40443"
      },
      "source": [
        "#Finding correlation between target varriable and features\n",
        "corrmat = music.corr()\n",
        "f, ax = plt.subplots(figsize=(7,6))\n",
        "sns.heatmap(corrmat, square = True)"
      ],
      "execution_count": 21,
      "outputs": [
        {
          "output_type": "execute_result",
          "data": {
            "text/plain": [
              "<matplotlib.axes._subplots.AxesSubplot at 0x7f6cdd7e1e50>"
            ]
          },
          "metadata": {},
          "execution_count": 21
        },
        {
          "output_type": "display_data",
          "data": {
            "image/png": "[encoded data removed]",
            "text/plain": [
              "<Figure size 504x432 with 2 Axes>"
            ]
          },
          "metadata": {
            "needs_background": "light"
          }
        }
      ]
    },
    {
      "cell_type": "markdown",
      "metadata": {
        "id": "X_lSa1WSEJnv"
      },
      "source": [
        "Right off the bat, we can see:\n",
        "1. *loudness* and *energy* are **highly correlated**. \n",
        "2. Followed by **medium correlation**:\n",
        "*   *loudness*  and *valence*\n",
        "*   *instrumentalness* and *acousticness*\n",
        "*   *loudness* and *danceability* \n",
        "*   *energy* and *valence*\n",
        "*   *danceability* and *valence*\n",
        "*   *popularity* and *danceability*\n"
      ]
    },
    {
      "cell_type": "code",
      "metadata": {
        "id": "P7uuuPXTRf7e"
      },
      "source": [
        ""
      ],
      "execution_count": null,
      "outputs": []
    }
  ]
}